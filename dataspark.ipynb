{
 "cells": [
  {
   "cell_type": "code",
   "execution_count": 1,
   "metadata": {},
   "outputs": [],
   "source": [
    "import pandas as pd"
   ]
  },
  {
   "cell_type": "code",
   "execution_count": 2,
   "metadata": {},
   "outputs": [],
   "source": [
    "df1=pd.read_csv(r\"C:\\Users\\razih\\OneDrive\\Desktop\\New\\electronics\\Customers.csv\",encoding='latin1')\n",
    "df2=pd.read_csv(r\"C:\\Users\\razih\\OneDrive\\Desktop\\New\\electronics\\Products.csv\",encoding='latin1')\n",
    "df3=pd.read_csv(r\"C:\\Users\\razih\\OneDrive\\Desktop\\New\\electronics\\Sales.csv\",encoding='latin1')\n",
    "df4=pd.read_csv(r\"C:\\Users\\razih\\OneDrive\\Desktop\\New\\electronics\\Stores.csv\",encoding='latin1')\n",
    "df5=pd.read_csv(r\"C:\\Users\\razih\\OneDrive\\Desktop\\New\\electronics\\Exchange_Rates.csv\",encoding='latin1')"
   ]
  },
  {
   "cell_type": "code",
   "execution_count": 3,
   "metadata": {},
   "outputs": [
    {
     "data": {
      "text/html": [
       "<div>\n",
       "<style scoped>\n",
       "    .dataframe tbody tr th:only-of-type {\n",
       "        vertical-align: middle;\n",
       "    }\n",
       "\n",
       "    .dataframe tbody tr th {\n",
       "        vertical-align: top;\n",
       "    }\n",
       "\n",
       "    .dataframe thead th {\n",
       "        text-align: right;\n",
       "    }\n",
       "</style>\n",
       "<table border=\"1\" class=\"dataframe\">\n",
       "  <thead>\n",
       "    <tr style=\"text-align: right;\">\n",
       "      <th></th>\n",
       "      <th>CustomerKey</th>\n",
       "      <th>Gender</th>\n",
       "      <th>Name</th>\n",
       "      <th>City</th>\n",
       "      <th>State Code</th>\n",
       "      <th>State</th>\n",
       "      <th>Zip Code</th>\n",
       "      <th>Country</th>\n",
       "      <th>Continent</th>\n",
       "      <th>Birthday</th>\n",
       "    </tr>\n",
       "  </thead>\n",
       "  <tbody>\n",
       "    <tr>\n",
       "      <th>0</th>\n",
       "      <td>301</td>\n",
       "      <td>Female</td>\n",
       "      <td>Lilly Harding</td>\n",
       "      <td>WANDEARAH EAST</td>\n",
       "      <td>SA</td>\n",
       "      <td>South Australia</td>\n",
       "      <td>5523</td>\n",
       "      <td>Australia</td>\n",
       "      <td>Australia</td>\n",
       "      <td>7/3/1939</td>\n",
       "    </tr>\n",
       "    <tr>\n",
       "      <th>1</th>\n",
       "      <td>325</td>\n",
       "      <td>Female</td>\n",
       "      <td>Madison Hull</td>\n",
       "      <td>MOUNT BUDD</td>\n",
       "      <td>WA</td>\n",
       "      <td>Western Australia</td>\n",
       "      <td>6522</td>\n",
       "      <td>Australia</td>\n",
       "      <td>Australia</td>\n",
       "      <td>9/27/1979</td>\n",
       "    </tr>\n",
       "    <tr>\n",
       "      <th>2</th>\n",
       "      <td>554</td>\n",
       "      <td>Female</td>\n",
       "      <td>Claire Ferres</td>\n",
       "      <td>WINJALLOK</td>\n",
       "      <td>VIC</td>\n",
       "      <td>Victoria</td>\n",
       "      <td>3380</td>\n",
       "      <td>Australia</td>\n",
       "      <td>Australia</td>\n",
       "      <td>5/26/1947</td>\n",
       "    </tr>\n",
       "    <tr>\n",
       "      <th>3</th>\n",
       "      <td>786</td>\n",
       "      <td>Male</td>\n",
       "      <td>Jai Poltpalingada</td>\n",
       "      <td>MIDDLE RIVER</td>\n",
       "      <td>SA</td>\n",
       "      <td>South Australia</td>\n",
       "      <td>5223</td>\n",
       "      <td>Australia</td>\n",
       "      <td>Australia</td>\n",
       "      <td>9/17/1957</td>\n",
       "    </tr>\n",
       "    <tr>\n",
       "      <th>4</th>\n",
       "      <td>1042</td>\n",
       "      <td>Male</td>\n",
       "      <td>Aidan Pankhurst</td>\n",
       "      <td>TAWONGA SOUTH</td>\n",
       "      <td>VIC</td>\n",
       "      <td>Victoria</td>\n",
       "      <td>3698</td>\n",
       "      <td>Australia</td>\n",
       "      <td>Australia</td>\n",
       "      <td>11/19/1965</td>\n",
       "    </tr>\n",
       "  </tbody>\n",
       "</table>\n",
       "</div>"
      ],
      "text/plain": [
       "   CustomerKey  Gender               Name            City State Code  \\\n",
       "0          301  Female      Lilly Harding  WANDEARAH EAST         SA   \n",
       "1          325  Female       Madison Hull      MOUNT BUDD         WA   \n",
       "2          554  Female      Claire Ferres       WINJALLOK        VIC   \n",
       "3          786    Male  Jai Poltpalingada    MIDDLE RIVER         SA   \n",
       "4         1042    Male    Aidan Pankhurst   TAWONGA SOUTH        VIC   \n",
       "\n",
       "               State Zip Code    Country  Continent    Birthday  \n",
       "0    South Australia     5523  Australia  Australia    7/3/1939  \n",
       "1  Western Australia     6522  Australia  Australia   9/27/1979  \n",
       "2           Victoria     3380  Australia  Australia   5/26/1947  \n",
       "3    South Australia     5223  Australia  Australia   9/17/1957  \n",
       "4           Victoria     3698  Australia  Australia  11/19/1965  "
      ]
     },
     "execution_count": 3,
     "metadata": {},
     "output_type": "execute_result"
    }
   ],
   "source": [
    "cus=df1.copy()\n",
    "cus.head(5)"
   ]
  },
  {
   "cell_type": "code",
   "execution_count": 4,
   "metadata": {},
   "outputs": [],
   "source": [
    "cus['State Code']=cus['State Code'].dropna()"
   ]
  },
  {
   "cell_type": "code",
   "execution_count": 5,
   "metadata": {},
   "outputs": [],
   "source": [
    "cus=cus.dropna()"
   ]
  },
  {
   "cell_type": "code",
   "execution_count": 6,
   "metadata": {},
   "outputs": [
    {
     "data": {
      "text/plain": [
       "CustomerKey    0\n",
       "Gender         0\n",
       "Name           0\n",
       "City           0\n",
       "State Code     0\n",
       "State          0\n",
       "Zip Code       0\n",
       "Country        0\n",
       "Continent      0\n",
       "Birthday       0\n",
       "dtype: int64"
      ]
     },
     "execution_count": 6,
     "metadata": {},
     "output_type": "execute_result"
    }
   ],
   "source": [
    "cus.isna().sum()"
   ]
  },
  {
   "cell_type": "code",
   "execution_count": 7,
   "metadata": {},
   "outputs": [
    {
     "data": {
      "text/html": [
       "<div>\n",
       "<style scoped>\n",
       "    .dataframe tbody tr th:only-of-type {\n",
       "        vertical-align: middle;\n",
       "    }\n",
       "\n",
       "    .dataframe tbody tr th {\n",
       "        vertical-align: top;\n",
       "    }\n",
       "\n",
       "    .dataframe thead th {\n",
       "        text-align: right;\n",
       "    }\n",
       "</style>\n",
       "<table border=\"1\" class=\"dataframe\">\n",
       "  <thead>\n",
       "    <tr style=\"text-align: right;\">\n",
       "      <th></th>\n",
       "      <th>CustomerKey</th>\n",
       "      <th>Gender</th>\n",
       "      <th>Name</th>\n",
       "      <th>City</th>\n",
       "      <th>State Code</th>\n",
       "      <th>State</th>\n",
       "      <th>Zip Code</th>\n",
       "      <th>Country</th>\n",
       "      <th>Continent</th>\n",
       "      <th>Birthday</th>\n",
       "    </tr>\n",
       "  </thead>\n",
       "  <tbody>\n",
       "    <tr>\n",
       "      <th>0</th>\n",
       "      <td>301</td>\n",
       "      <td>Female</td>\n",
       "      <td>Lilly Harding</td>\n",
       "      <td>WANDEARAH EAST</td>\n",
       "      <td>SA</td>\n",
       "      <td>South Australia</td>\n",
       "      <td>5523</td>\n",
       "      <td>Australia</td>\n",
       "      <td>Australia</td>\n",
       "      <td>1939-07-03</td>\n",
       "    </tr>\n",
       "    <tr>\n",
       "      <th>1</th>\n",
       "      <td>325</td>\n",
       "      <td>Female</td>\n",
       "      <td>Madison Hull</td>\n",
       "      <td>MOUNT BUDD</td>\n",
       "      <td>WA</td>\n",
       "      <td>Western Australia</td>\n",
       "      <td>6522</td>\n",
       "      <td>Australia</td>\n",
       "      <td>Australia</td>\n",
       "      <td>1979-09-27</td>\n",
       "    </tr>\n",
       "  </tbody>\n",
       "</table>\n",
       "</div>"
      ],
      "text/plain": [
       "   CustomerKey  Gender           Name            City State Code  \\\n",
       "0          301  Female  Lilly Harding  WANDEARAH EAST         SA   \n",
       "1          325  Female   Madison Hull      MOUNT BUDD         WA   \n",
       "\n",
       "               State Zip Code    Country  Continent   Birthday  \n",
       "0    South Australia     5523  Australia  Australia 1939-07-03  \n",
       "1  Western Australia     6522  Australia  Australia 1979-09-27  "
      ]
     },
     "execution_count": 7,
     "metadata": {},
     "output_type": "execute_result"
    }
   ],
   "source": [
    "cus['Birthday']=pd.to_datetime(cus['Birthday'])\n",
    "cus.head(2)"
   ]
  },
  {
   "cell_type": "code",
   "execution_count": 8,
   "metadata": {},
   "outputs": [],
   "source": [
    "cus.to_csv(\"cus.csv\")"
   ]
  },
  {
   "cell_type": "code",
   "execution_count": 9,
   "metadata": {},
   "outputs": [
    {
     "data": {
      "text/html": [
       "<div>\n",
       "<style scoped>\n",
       "    .dataframe tbody tr th:only-of-type {\n",
       "        vertical-align: middle;\n",
       "    }\n",
       "\n",
       "    .dataframe tbody tr th {\n",
       "        vertical-align: top;\n",
       "    }\n",
       "\n",
       "    .dataframe thead th {\n",
       "        text-align: right;\n",
       "    }\n",
       "</style>\n",
       "<table border=\"1\" class=\"dataframe\">\n",
       "  <thead>\n",
       "    <tr style=\"text-align: right;\">\n",
       "      <th></th>\n",
       "      <th>ProductKey</th>\n",
       "      <th>Product Name</th>\n",
       "      <th>Brand</th>\n",
       "      <th>Color</th>\n",
       "      <th>Unit Cost USD</th>\n",
       "      <th>Unit Price USD</th>\n",
       "      <th>SubcategoryKey</th>\n",
       "      <th>Subcategory</th>\n",
       "      <th>CategoryKey</th>\n",
       "      <th>Category</th>\n",
       "    </tr>\n",
       "  </thead>\n",
       "  <tbody>\n",
       "    <tr>\n",
       "      <th>0</th>\n",
       "      <td>1</td>\n",
       "      <td>Contoso 512MB MP3 Player E51 Silver</td>\n",
       "      <td>Contoso</td>\n",
       "      <td>Silver</td>\n",
       "      <td>$6.62</td>\n",
       "      <td>$12.99</td>\n",
       "      <td>101</td>\n",
       "      <td>MP4&amp;MP3</td>\n",
       "      <td>1</td>\n",
       "      <td>Audio</td>\n",
       "    </tr>\n",
       "    <tr>\n",
       "      <th>1</th>\n",
       "      <td>2</td>\n",
       "      <td>Contoso 512MB MP3 Player E51 Blue</td>\n",
       "      <td>Contoso</td>\n",
       "      <td>Blue</td>\n",
       "      <td>$6.62</td>\n",
       "      <td>$12.99</td>\n",
       "      <td>101</td>\n",
       "      <td>MP4&amp;MP3</td>\n",
       "      <td>1</td>\n",
       "      <td>Audio</td>\n",
       "    </tr>\n",
       "  </tbody>\n",
       "</table>\n",
       "</div>"
      ],
      "text/plain": [
       "   ProductKey                         Product Name    Brand   Color  \\\n",
       "0           1  Contoso 512MB MP3 Player E51 Silver  Contoso  Silver   \n",
       "1           2    Contoso 512MB MP3 Player E51 Blue  Contoso    Blue   \n",
       "\n",
       "  Unit Cost USD Unit Price USD  SubcategoryKey Subcategory  CategoryKey  \\\n",
       "0        $6.62         $12.99              101     MP4&MP3            1   \n",
       "1        $6.62         $12.99              101     MP4&MP3            1   \n",
       "\n",
       "  Category  \n",
       "0    Audio  \n",
       "1    Audio  "
      ]
     },
     "execution_count": 9,
     "metadata": {},
     "output_type": "execute_result"
    }
   ],
   "source": [
    "pro=df2.copy()\n",
    "pro.head(2)"
   ]
  },
  {
   "cell_type": "code",
   "execution_count": 10,
   "metadata": {},
   "outputs": [
    {
     "data": {
      "text/plain": [
       "(2517, 10)"
      ]
     },
     "execution_count": 10,
     "metadata": {},
     "output_type": "execute_result"
    }
   ],
   "source": [
    "pro.shape"
   ]
  },
  {
   "cell_type": "code",
   "execution_count": 11,
   "metadata": {},
   "outputs": [
    {
     "data": {
      "text/html": [
       "<div>\n",
       "<style scoped>\n",
       "    .dataframe tbody tr th:only-of-type {\n",
       "        vertical-align: middle;\n",
       "    }\n",
       "\n",
       "    .dataframe tbody tr th {\n",
       "        vertical-align: top;\n",
       "    }\n",
       "\n",
       "    .dataframe thead th {\n",
       "        text-align: right;\n",
       "    }\n",
       "</style>\n",
       "<table border=\"1\" class=\"dataframe\">\n",
       "  <thead>\n",
       "    <tr style=\"text-align: right;\">\n",
       "      <th></th>\n",
       "      <th>ProductKey</th>\n",
       "      <th>Product Name</th>\n",
       "      <th>Brand</th>\n",
       "      <th>Color</th>\n",
       "      <th>Unit Cost USD</th>\n",
       "      <th>Unit Price USD</th>\n",
       "      <th>SubcategoryKey</th>\n",
       "      <th>Subcategory</th>\n",
       "      <th>CategoryKey</th>\n",
       "      <th>Category</th>\n",
       "    </tr>\n",
       "  </thead>\n",
       "  <tbody>\n",
       "    <tr>\n",
       "      <th>0</th>\n",
       "      <td>1</td>\n",
       "      <td>Contoso 512MB MP3 Player E51 Silver</td>\n",
       "      <td>Contoso</td>\n",
       "      <td>Silver</td>\n",
       "      <td>6.62</td>\n",
       "      <td>12.99</td>\n",
       "      <td>101</td>\n",
       "      <td>MP4&amp;MP3</td>\n",
       "      <td>1</td>\n",
       "      <td>Audio</td>\n",
       "    </tr>\n",
       "    <tr>\n",
       "      <th>1</th>\n",
       "      <td>2</td>\n",
       "      <td>Contoso 512MB MP3 Player E51 Blue</td>\n",
       "      <td>Contoso</td>\n",
       "      <td>Blue</td>\n",
       "      <td>6.62</td>\n",
       "      <td>12.99</td>\n",
       "      <td>101</td>\n",
       "      <td>MP4&amp;MP3</td>\n",
       "      <td>1</td>\n",
       "      <td>Audio</td>\n",
       "    </tr>\n",
       "  </tbody>\n",
       "</table>\n",
       "</div>"
      ],
      "text/plain": [
       "   ProductKey                         Product Name    Brand   Color  \\\n",
       "0           1  Contoso 512MB MP3 Player E51 Silver  Contoso  Silver   \n",
       "1           2    Contoso 512MB MP3 Player E51 Blue  Contoso    Blue   \n",
       "\n",
       "   Unit Cost USD  Unit Price USD  SubcategoryKey Subcategory  CategoryKey  \\\n",
       "0           6.62           12.99             101     MP4&MP3            1   \n",
       "1           6.62           12.99             101     MP4&MP3            1   \n",
       "\n",
       "  Category  \n",
       "0    Audio  \n",
       "1    Audio  "
      ]
     },
     "execution_count": 11,
     "metadata": {},
     "output_type": "execute_result"
    }
   ],
   "source": [
    "# chaging its dtype and replacing few strings\n",
    "\n",
    "pro['Unit Cost USD'] = pd.to_numeric(pro['Unit Cost USD'].str.replace('$', '').str.replace(',', ''), errors='coerce')\n",
    "pro['Unit Price USD'] = pd.to_numeric(pro['Unit Price USD'].str.replace('$', '').str.replace(',', ''), errors='coerce')\n",
    "pro.head(2)"
   ]
  },
  {
   "cell_type": "code",
   "execution_count": 12,
   "metadata": {},
   "outputs": [],
   "source": [
    "pro.to_csv(\"pro.csv\")"
   ]
  },
  {
   "cell_type": "code",
   "execution_count": 13,
   "metadata": {},
   "outputs": [
    {
     "data": {
      "text/html": [
       "<div>\n",
       "<style scoped>\n",
       "    .dataframe tbody tr th:only-of-type {\n",
       "        vertical-align: middle;\n",
       "    }\n",
       "\n",
       "    .dataframe tbody tr th {\n",
       "        vertical-align: top;\n",
       "    }\n",
       "\n",
       "    .dataframe thead th {\n",
       "        text-align: right;\n",
       "    }\n",
       "</style>\n",
       "<table border=\"1\" class=\"dataframe\">\n",
       "  <thead>\n",
       "    <tr style=\"text-align: right;\">\n",
       "      <th></th>\n",
       "      <th>Order Number</th>\n",
       "      <th>Line Item</th>\n",
       "      <th>Order Date</th>\n",
       "      <th>Delivery Date</th>\n",
       "      <th>CustomerKey</th>\n",
       "      <th>StoreKey</th>\n",
       "      <th>ProductKey</th>\n",
       "      <th>Quantity</th>\n",
       "      <th>Currency Code</th>\n",
       "    </tr>\n",
       "  </thead>\n",
       "  <tbody>\n",
       "    <tr>\n",
       "      <th>0</th>\n",
       "      <td>366000</td>\n",
       "      <td>1</td>\n",
       "      <td>1/1/2016</td>\n",
       "      <td>NaN</td>\n",
       "      <td>265598</td>\n",
       "      <td>10</td>\n",
       "      <td>1304</td>\n",
       "      <td>1</td>\n",
       "      <td>CAD</td>\n",
       "    </tr>\n",
       "    <tr>\n",
       "      <th>1</th>\n",
       "      <td>366001</td>\n",
       "      <td>1</td>\n",
       "      <td>1/1/2016</td>\n",
       "      <td>1/13/2016</td>\n",
       "      <td>1269051</td>\n",
       "      <td>0</td>\n",
       "      <td>1048</td>\n",
       "      <td>2</td>\n",
       "      <td>USD</td>\n",
       "    </tr>\n",
       "  </tbody>\n",
       "</table>\n",
       "</div>"
      ],
      "text/plain": [
       "   Order Number  Line Item Order Date Delivery Date  CustomerKey  StoreKey  \\\n",
       "0        366000          1   1/1/2016           NaN       265598        10   \n",
       "1        366001          1   1/1/2016     1/13/2016      1269051         0   \n",
       "\n",
       "   ProductKey  Quantity Currency Code  \n",
       "0        1304         1           CAD  \n",
       "1        1048         2           USD  "
      ]
     },
     "execution_count": 13,
     "metadata": {},
     "output_type": "execute_result"
    }
   ],
   "source": [
    "sale=df3.copy()\n",
    "sale.head(2)"
   ]
  },
  {
   "cell_type": "code",
   "execution_count": 14,
   "metadata": {},
   "outputs": [
    {
     "data": {
      "text/plain": [
       "(62884, 9)"
      ]
     },
     "execution_count": 14,
     "metadata": {},
     "output_type": "execute_result"
    }
   ],
   "source": [
    "sale.shape"
   ]
  },
  {
   "cell_type": "code",
   "execution_count": 15,
   "metadata": {},
   "outputs": [],
   "source": [
    "sale.isna().sum()\n",
    "sale.drop(['Delivery Date'],axis=1,inplace=True)"
   ]
  },
  {
   "cell_type": "code",
   "execution_count": 16,
   "metadata": {},
   "outputs": [
    {
     "data": {
      "text/html": [
       "<div>\n",
       "<style scoped>\n",
       "    .dataframe tbody tr th:only-of-type {\n",
       "        vertical-align: middle;\n",
       "    }\n",
       "\n",
       "    .dataframe tbody tr th {\n",
       "        vertical-align: top;\n",
       "    }\n",
       "\n",
       "    .dataframe thead th {\n",
       "        text-align: right;\n",
       "    }\n",
       "</style>\n",
       "<table border=\"1\" class=\"dataframe\">\n",
       "  <thead>\n",
       "    <tr style=\"text-align: right;\">\n",
       "      <th></th>\n",
       "      <th>Order Number</th>\n",
       "      <th>Line Item</th>\n",
       "      <th>Order Date</th>\n",
       "      <th>CustomerKey</th>\n",
       "      <th>StoreKey</th>\n",
       "      <th>ProductKey</th>\n",
       "      <th>Quantity</th>\n",
       "      <th>Currency Code</th>\n",
       "    </tr>\n",
       "  </thead>\n",
       "  <tbody>\n",
       "    <tr>\n",
       "      <th>0</th>\n",
       "      <td>366000</td>\n",
       "      <td>1</td>\n",
       "      <td>1/1/2016</td>\n",
       "      <td>265598</td>\n",
       "      <td>10</td>\n",
       "      <td>1304</td>\n",
       "      <td>1</td>\n",
       "      <td>CAD</td>\n",
       "    </tr>\n",
       "  </tbody>\n",
       "</table>\n",
       "</div>"
      ],
      "text/plain": [
       "   Order Number  Line Item Order Date  CustomerKey  StoreKey  ProductKey  \\\n",
       "0        366000          1   1/1/2016       265598        10        1304   \n",
       "\n",
       "   Quantity Currency Code  \n",
       "0         1           CAD  "
      ]
     },
     "execution_count": 16,
     "metadata": {},
     "output_type": "execute_result"
    }
   ],
   "source": [
    "sale.head(1)"
   ]
  },
  {
   "cell_type": "code",
   "execution_count": 17,
   "metadata": {},
   "outputs": [
    {
     "data": {
      "text/html": [
       "<div>\n",
       "<style scoped>\n",
       "    .dataframe tbody tr th:only-of-type {\n",
       "        vertical-align: middle;\n",
       "    }\n",
       "\n",
       "    .dataframe tbody tr th {\n",
       "        vertical-align: top;\n",
       "    }\n",
       "\n",
       "    .dataframe thead th {\n",
       "        text-align: right;\n",
       "    }\n",
       "</style>\n",
       "<table border=\"1\" class=\"dataframe\">\n",
       "  <thead>\n",
       "    <tr style=\"text-align: right;\">\n",
       "      <th></th>\n",
       "      <th>Order Number</th>\n",
       "      <th>Line Item</th>\n",
       "      <th>Order Date</th>\n",
       "      <th>CustomerKey</th>\n",
       "      <th>StoreKey</th>\n",
       "      <th>ProductKey</th>\n",
       "      <th>Quantity</th>\n",
       "      <th>Currency Code</th>\n",
       "    </tr>\n",
       "  </thead>\n",
       "  <tbody>\n",
       "    <tr>\n",
       "      <th>0</th>\n",
       "      <td>366000</td>\n",
       "      <td>1</td>\n",
       "      <td>2016-01-01</td>\n",
       "      <td>265598</td>\n",
       "      <td>10</td>\n",
       "      <td>1304</td>\n",
       "      <td>1</td>\n",
       "      <td>CAD</td>\n",
       "    </tr>\n",
       "    <tr>\n",
       "      <th>1</th>\n",
       "      <td>366001</td>\n",
       "      <td>1</td>\n",
       "      <td>2016-01-01</td>\n",
       "      <td>1269051</td>\n",
       "      <td>0</td>\n",
       "      <td>1048</td>\n",
       "      <td>2</td>\n",
       "      <td>USD</td>\n",
       "    </tr>\n",
       "  </tbody>\n",
       "</table>\n",
       "</div>"
      ],
      "text/plain": [
       "   Order Number  Line Item Order Date  CustomerKey  StoreKey  ProductKey  \\\n",
       "0        366000          1 2016-01-01       265598        10        1304   \n",
       "1        366001          1 2016-01-01      1269051         0        1048   \n",
       "\n",
       "   Quantity Currency Code  \n",
       "0         1           CAD  \n",
       "1         2           USD  "
      ]
     },
     "execution_count": 17,
     "metadata": {},
     "output_type": "execute_result"
    }
   ],
   "source": [
    "sale['Order Date']=pd.to_datetime(sale['Order Date'])\n",
    "sale.head(2)"
   ]
  },
  {
   "cell_type": "code",
   "execution_count": 18,
   "metadata": {},
   "outputs": [
    {
     "data": {
      "text/plain": [
       "(62884, 8)"
      ]
     },
     "execution_count": 18,
     "metadata": {},
     "output_type": "execute_result"
    }
   ],
   "source": [
    "sale.shape"
   ]
  },
  {
   "cell_type": "code",
   "execution_count": 19,
   "metadata": {},
   "outputs": [],
   "source": [
    "sale.to_csv(\"sale.csv\")"
   ]
  },
  {
   "cell_type": "code",
   "execution_count": 20,
   "metadata": {},
   "outputs": [
    {
     "data": {
      "text/html": [
       "<div>\n",
       "<style scoped>\n",
       "    .dataframe tbody tr th:only-of-type {\n",
       "        vertical-align: middle;\n",
       "    }\n",
       "\n",
       "    .dataframe tbody tr th {\n",
       "        vertical-align: top;\n",
       "    }\n",
       "\n",
       "    .dataframe thead th {\n",
       "        text-align: right;\n",
       "    }\n",
       "</style>\n",
       "<table border=\"1\" class=\"dataframe\">\n",
       "  <thead>\n",
       "    <tr style=\"text-align: right;\">\n",
       "      <th></th>\n",
       "      <th>StoreKey</th>\n",
       "      <th>Country</th>\n",
       "      <th>State</th>\n",
       "      <th>Square Meters</th>\n",
       "      <th>Open Date</th>\n",
       "    </tr>\n",
       "  </thead>\n",
       "  <tbody>\n",
       "    <tr>\n",
       "      <th>0</th>\n",
       "      <td>1</td>\n",
       "      <td>Australia</td>\n",
       "      <td>Australian Capital Territory</td>\n",
       "      <td>595.0</td>\n",
       "      <td>1/1/2008</td>\n",
       "    </tr>\n",
       "    <tr>\n",
       "      <th>1</th>\n",
       "      <td>2</td>\n",
       "      <td>Australia</td>\n",
       "      <td>Northern Territory</td>\n",
       "      <td>665.0</td>\n",
       "      <td>1/12/2008</td>\n",
       "    </tr>\n",
       "  </tbody>\n",
       "</table>\n",
       "</div>"
      ],
      "text/plain": [
       "   StoreKey    Country                         State  Square Meters  Open Date\n",
       "0         1  Australia  Australian Capital Territory          595.0   1/1/2008\n",
       "1         2  Australia            Northern Territory          665.0  1/12/2008"
      ]
     },
     "execution_count": 20,
     "metadata": {},
     "output_type": "execute_result"
    }
   ],
   "source": [
    "store=df4.copy()\n",
    "store.head(2)"
   ]
  },
  {
   "cell_type": "code",
   "execution_count": 21,
   "metadata": {},
   "outputs": [
    {
     "data": {
      "text/html": [
       "<div>\n",
       "<style scoped>\n",
       "    .dataframe tbody tr th:only-of-type {\n",
       "        vertical-align: middle;\n",
       "    }\n",
       "\n",
       "    .dataframe tbody tr th {\n",
       "        vertical-align: top;\n",
       "    }\n",
       "\n",
       "    .dataframe thead th {\n",
       "        text-align: right;\n",
       "    }\n",
       "</style>\n",
       "<table border=\"1\" class=\"dataframe\">\n",
       "  <thead>\n",
       "    <tr style=\"text-align: right;\">\n",
       "      <th></th>\n",
       "      <th>StoreKey</th>\n",
       "      <th>Country</th>\n",
       "      <th>State</th>\n",
       "      <th>Square Meters</th>\n",
       "      <th>Open Date</th>\n",
       "    </tr>\n",
       "  </thead>\n",
       "  <tbody>\n",
       "    <tr>\n",
       "      <th>0</th>\n",
       "      <td>1</td>\n",
       "      <td>Australia</td>\n",
       "      <td>Australian Capital Territory</td>\n",
       "      <td>595.0</td>\n",
       "      <td>1/1/2008</td>\n",
       "    </tr>\n",
       "    <tr>\n",
       "      <th>1</th>\n",
       "      <td>2</td>\n",
       "      <td>Australia</td>\n",
       "      <td>Northern Territory</td>\n",
       "      <td>665.0</td>\n",
       "      <td>1/12/2008</td>\n",
       "    </tr>\n",
       "  </tbody>\n",
       "</table>\n",
       "</div>"
      ],
      "text/plain": [
       "   StoreKey    Country                         State  Square Meters  Open Date\n",
       "0         1  Australia  Australian Capital Territory          595.0   1/1/2008\n",
       "1         2  Australia            Northern Territory          665.0  1/12/2008"
      ]
     },
     "execution_count": 21,
     "metadata": {},
     "output_type": "execute_result"
    }
   ],
   "source": [
    "store.isna().sum()\n",
    "store.dropna()\n",
    "store.head(2)"
   ]
  },
  {
   "cell_type": "code",
   "execution_count": 22,
   "metadata": {},
   "outputs": [
    {
     "data": {
      "text/html": [
       "<div>\n",
       "<style scoped>\n",
       "    .dataframe tbody tr th:only-of-type {\n",
       "        vertical-align: middle;\n",
       "    }\n",
       "\n",
       "    .dataframe tbody tr th {\n",
       "        vertical-align: top;\n",
       "    }\n",
       "\n",
       "    .dataframe thead th {\n",
       "        text-align: right;\n",
       "    }\n",
       "</style>\n",
       "<table border=\"1\" class=\"dataframe\">\n",
       "  <thead>\n",
       "    <tr style=\"text-align: right;\">\n",
       "      <th></th>\n",
       "      <th>StoreKey</th>\n",
       "      <th>Country</th>\n",
       "      <th>State</th>\n",
       "      <th>Square Meters</th>\n",
       "      <th>Open Date</th>\n",
       "    </tr>\n",
       "  </thead>\n",
       "  <tbody>\n",
       "    <tr>\n",
       "      <th>0</th>\n",
       "      <td>1</td>\n",
       "      <td>Australia</td>\n",
       "      <td>Australian Capital Territory</td>\n",
       "      <td>595.0</td>\n",
       "      <td>2008-01-01</td>\n",
       "    </tr>\n",
       "    <tr>\n",
       "      <th>1</th>\n",
       "      <td>2</td>\n",
       "      <td>Australia</td>\n",
       "      <td>Northern Territory</td>\n",
       "      <td>665.0</td>\n",
       "      <td>2008-01-12</td>\n",
       "    </tr>\n",
       "  </tbody>\n",
       "</table>\n",
       "</div>"
      ],
      "text/plain": [
       "   StoreKey    Country                         State  Square Meters  Open Date\n",
       "0         1  Australia  Australian Capital Territory          595.0 2008-01-01\n",
       "1         2  Australia            Northern Territory          665.0 2008-01-12"
      ]
     },
     "execution_count": 22,
     "metadata": {},
     "output_type": "execute_result"
    }
   ],
   "source": [
    "store['Open Date']=pd.to_datetime(store['Open Date'])\n",
    "store.head(2)"
   ]
  },
  {
   "cell_type": "code",
   "execution_count": 23,
   "metadata": {},
   "outputs": [
    {
     "data": {
      "text/plain": [
       "(67, 5)"
      ]
     },
     "execution_count": 23,
     "metadata": {},
     "output_type": "execute_result"
    }
   ],
   "source": [
    "store.shape"
   ]
  },
  {
   "cell_type": "code",
   "execution_count": 24,
   "metadata": {},
   "outputs": [],
   "source": [
    "store.to_csv(\"store.csv\")"
   ]
  },
  {
   "cell_type": "code",
   "execution_count": 25,
   "metadata": {},
   "outputs": [
    {
     "data": {
      "text/html": [
       "<div>\n",
       "<style scoped>\n",
       "    .dataframe tbody tr th:only-of-type {\n",
       "        vertical-align: middle;\n",
       "    }\n",
       "\n",
       "    .dataframe tbody tr th {\n",
       "        vertical-align: top;\n",
       "    }\n",
       "\n",
       "    .dataframe thead th {\n",
       "        text-align: right;\n",
       "    }\n",
       "</style>\n",
       "<table border=\"1\" class=\"dataframe\">\n",
       "  <thead>\n",
       "    <tr style=\"text-align: right;\">\n",
       "      <th></th>\n",
       "      <th>Date</th>\n",
       "      <th>Currency</th>\n",
       "      <th>Exchange</th>\n",
       "    </tr>\n",
       "  </thead>\n",
       "  <tbody>\n",
       "    <tr>\n",
       "      <th>0</th>\n",
       "      <td>1/1/2015</td>\n",
       "      <td>USD</td>\n",
       "      <td>1.0000</td>\n",
       "    </tr>\n",
       "    <tr>\n",
       "      <th>1</th>\n",
       "      <td>1/1/2015</td>\n",
       "      <td>CAD</td>\n",
       "      <td>1.1583</td>\n",
       "    </tr>\n",
       "  </tbody>\n",
       "</table>\n",
       "</div>"
      ],
      "text/plain": [
       "       Date Currency  Exchange\n",
       "0  1/1/2015      USD    1.0000\n",
       "1  1/1/2015      CAD    1.1583"
      ]
     },
     "execution_count": 25,
     "metadata": {},
     "output_type": "execute_result"
    }
   ],
   "source": [
    "ex=df5.copy()\n",
    "ex.head(2)"
   ]
  },
  {
   "cell_type": "code",
   "execution_count": 26,
   "metadata": {},
   "outputs": [
    {
     "data": {
      "text/html": [
       "<div>\n",
       "<style scoped>\n",
       "    .dataframe tbody tr th:only-of-type {\n",
       "        vertical-align: middle;\n",
       "    }\n",
       "\n",
       "    .dataframe tbody tr th {\n",
       "        vertical-align: top;\n",
       "    }\n",
       "\n",
       "    .dataframe thead th {\n",
       "        text-align: right;\n",
       "    }\n",
       "</style>\n",
       "<table border=\"1\" class=\"dataframe\">\n",
       "  <thead>\n",
       "    <tr style=\"text-align: right;\">\n",
       "      <th></th>\n",
       "      <th>Record_Date</th>\n",
       "      <th>Currency</th>\n",
       "      <th>Exchange</th>\n",
       "    </tr>\n",
       "  </thead>\n",
       "  <tbody>\n",
       "    <tr>\n",
       "      <th>0</th>\n",
       "      <td>2015-01-01</td>\n",
       "      <td>USD</td>\n",
       "      <td>1.0000</td>\n",
       "    </tr>\n",
       "    <tr>\n",
       "      <th>1</th>\n",
       "      <td>2015-01-01</td>\n",
       "      <td>CAD</td>\n",
       "      <td>1.1583</td>\n",
       "    </tr>\n",
       "  </tbody>\n",
       "</table>\n",
       "</div>"
      ],
      "text/plain": [
       "  Record_Date Currency  Exchange\n",
       "0  2015-01-01      USD    1.0000\n",
       "1  2015-01-01      CAD    1.1583"
      ]
     },
     "execution_count": 26,
     "metadata": {},
     "output_type": "execute_result"
    }
   ],
   "source": [
    "ex['Date']=pd.to_datetime(ex['Date'])\n",
    "#ex.head(2)\n",
    "\n",
    "ex=ex.rename(columns={'Date': 'Record_Date'})# Rename a single column\n",
    "ex.head(2)"
   ]
  },
  {
   "cell_type": "code",
   "execution_count": 27,
   "metadata": {},
   "outputs": [
    {
     "data": {
      "text/plain": [
       "(11215, 3)"
      ]
     },
     "execution_count": 27,
     "metadata": {},
     "output_type": "execute_result"
    }
   ],
   "source": [
    "ex.shape"
   ]
  },
  {
   "cell_type": "code",
   "execution_count": 28,
   "metadata": {},
   "outputs": [],
   "source": [
    "ex.to_csv(\"ex.csv\")"
   ]
  },
  {
   "cell_type": "markdown",
   "metadata": {},
   "source": [
    "# merging data frames by commmon columns"
   ]
  },
  {
   "cell_type": "code",
   "execution_count": 29,
   "metadata": {},
   "outputs": [
    {
     "data": {
      "text/html": [
       "<div>\n",
       "<style scoped>\n",
       "    .dataframe tbody tr th:only-of-type {\n",
       "        vertical-align: middle;\n",
       "    }\n",
       "\n",
       "    .dataframe tbody tr th {\n",
       "        vertical-align: top;\n",
       "    }\n",
       "\n",
       "    .dataframe thead th {\n",
       "        text-align: right;\n",
       "    }\n",
       "</style>\n",
       "<table border=\"1\" class=\"dataframe\">\n",
       "  <thead>\n",
       "    <tr style=\"text-align: right;\">\n",
       "      <th></th>\n",
       "      <th>CustomerKey</th>\n",
       "      <th>Gender</th>\n",
       "      <th>Name</th>\n",
       "      <th>City</th>\n",
       "      <th>State Code</th>\n",
       "      <th>State</th>\n",
       "      <th>Zip Code</th>\n",
       "      <th>Country</th>\n",
       "      <th>Continent</th>\n",
       "      <th>Birthday</th>\n",
       "    </tr>\n",
       "  </thead>\n",
       "  <tbody>\n",
       "    <tr>\n",
       "      <th>0</th>\n",
       "      <td>301</td>\n",
       "      <td>Female</td>\n",
       "      <td>Lilly Harding</td>\n",
       "      <td>WANDEARAH EAST</td>\n",
       "      <td>SA</td>\n",
       "      <td>South Australia</td>\n",
       "      <td>5523</td>\n",
       "      <td>Australia</td>\n",
       "      <td>Australia</td>\n",
       "      <td>1939-07-03</td>\n",
       "    </tr>\n",
       "    <tr>\n",
       "      <th>1</th>\n",
       "      <td>325</td>\n",
       "      <td>Female</td>\n",
       "      <td>Madison Hull</td>\n",
       "      <td>MOUNT BUDD</td>\n",
       "      <td>WA</td>\n",
       "      <td>Western Australia</td>\n",
       "      <td>6522</td>\n",
       "      <td>Australia</td>\n",
       "      <td>Australia</td>\n",
       "      <td>1979-09-27</td>\n",
       "    </tr>\n",
       "  </tbody>\n",
       "</table>\n",
       "</div>"
      ],
      "text/plain": [
       "   CustomerKey  Gender           Name            City State Code  \\\n",
       "0          301  Female  Lilly Harding  WANDEARAH EAST         SA   \n",
       "1          325  Female   Madison Hull      MOUNT BUDD         WA   \n",
       "\n",
       "               State Zip Code    Country  Continent    Birthday  \n",
       "0    South Australia     5523  Australia  Australia  1939-07-03  \n",
       "1  Western Australia     6522  Australia  Australia  1979-09-27  "
      ]
     },
     "execution_count": 29,
     "metadata": {},
     "output_type": "execute_result"
    }
   ],
   "source": [
    "cus_df=pd.read_csv(r\"C:\\Users\\razih\\OneDrive\\Desktop\\New\\electronics\\cus.csv\")\n",
    "cus_df=cus_df.drop(['Unnamed: 0'],axis=1)\n",
    "cus_df.head(2)\n",
    "#cus.shape"
   ]
  },
  {
   "cell_type": "code",
   "execution_count": 30,
   "metadata": {},
   "outputs": [
    {
     "data": {
      "text/html": [
       "<div>\n",
       "<style scoped>\n",
       "    .dataframe tbody tr th:only-of-type {\n",
       "        vertical-align: middle;\n",
       "    }\n",
       "\n",
       "    .dataframe tbody tr th {\n",
       "        vertical-align: top;\n",
       "    }\n",
       "\n",
       "    .dataframe thead th {\n",
       "        text-align: right;\n",
       "    }\n",
       "</style>\n",
       "<table border=\"1\" class=\"dataframe\">\n",
       "  <thead>\n",
       "    <tr style=\"text-align: right;\">\n",
       "      <th></th>\n",
       "      <th>Order Number</th>\n",
       "      <th>Line Item</th>\n",
       "      <th>Order Date</th>\n",
       "      <th>CustomerKey</th>\n",
       "      <th>StoreKey</th>\n",
       "      <th>ProductKey</th>\n",
       "      <th>Quantity</th>\n",
       "      <th>Currency Code</th>\n",
       "    </tr>\n",
       "  </thead>\n",
       "  <tbody>\n",
       "    <tr>\n",
       "      <th>0</th>\n",
       "      <td>366000</td>\n",
       "      <td>1</td>\n",
       "      <td>2016-01-01</td>\n",
       "      <td>265598</td>\n",
       "      <td>10</td>\n",
       "      <td>1304</td>\n",
       "      <td>1</td>\n",
       "      <td>CAD</td>\n",
       "    </tr>\n",
       "    <tr>\n",
       "      <th>1</th>\n",
       "      <td>366001</td>\n",
       "      <td>1</td>\n",
       "      <td>2016-01-01</td>\n",
       "      <td>1269051</td>\n",
       "      <td>0</td>\n",
       "      <td>1048</td>\n",
       "      <td>2</td>\n",
       "      <td>USD</td>\n",
       "    </tr>\n",
       "  </tbody>\n",
       "</table>\n",
       "</div>"
      ],
      "text/plain": [
       "   Order Number  Line Item  Order Date  CustomerKey  StoreKey  ProductKey  \\\n",
       "0        366000          1  2016-01-01       265598        10        1304   \n",
       "1        366001          1  2016-01-01      1269051         0        1048   \n",
       "\n",
       "   Quantity Currency Code  \n",
       "0         1           CAD  \n",
       "1         2           USD  "
      ]
     },
     "execution_count": 30,
     "metadata": {},
     "output_type": "execute_result"
    }
   ],
   "source": [
    "sale_df=pd.read_csv(r\"C:\\Users\\razih\\OneDrive\\Desktop\\New\\electronics\\sale.csv\")\n",
    "sale_df=sale_df.drop(['Unnamed: 0'],axis=1)\n",
    "sale_df.head(2)\n",
    "#sale_df.shape"
   ]
  },
  {
   "cell_type": "code",
   "execution_count": 31,
   "metadata": {},
   "outputs": [
    {
     "data": {
      "text/html": [
       "<div>\n",
       "<style scoped>\n",
       "    .dataframe tbody tr th:only-of-type {\n",
       "        vertical-align: middle;\n",
       "    }\n",
       "\n",
       "    .dataframe tbody tr th {\n",
       "        vertical-align: top;\n",
       "    }\n",
       "\n",
       "    .dataframe thead th {\n",
       "        text-align: right;\n",
       "    }\n",
       "</style>\n",
       "<table border=\"1\" class=\"dataframe\">\n",
       "  <thead>\n",
       "    <tr style=\"text-align: right;\">\n",
       "      <th></th>\n",
       "      <th>CustomerKey</th>\n",
       "      <th>Gender</th>\n",
       "      <th>Name</th>\n",
       "      <th>City</th>\n",
       "      <th>State Code</th>\n",
       "      <th>State</th>\n",
       "      <th>Zip Code</th>\n",
       "      <th>Country</th>\n",
       "      <th>Continent</th>\n",
       "      <th>Birthday</th>\n",
       "      <th>Order Number</th>\n",
       "      <th>Line Item</th>\n",
       "      <th>Order Date</th>\n",
       "      <th>StoreKey</th>\n",
       "      <th>ProductKey</th>\n",
       "      <th>Quantity</th>\n",
       "      <th>Currency Code</th>\n",
       "    </tr>\n",
       "  </thead>\n",
       "  <tbody>\n",
       "    <tr>\n",
       "      <th>0</th>\n",
       "      <td>301</td>\n",
       "      <td>Female</td>\n",
       "      <td>Lilly Harding</td>\n",
       "      <td>WANDEARAH EAST</td>\n",
       "      <td>SA</td>\n",
       "      <td>South Australia</td>\n",
       "      <td>5523</td>\n",
       "      <td>Australia</td>\n",
       "      <td>Australia</td>\n",
       "      <td>1939-07-03</td>\n",
       "      <td>1776007</td>\n",
       "      <td>1</td>\n",
       "      <td>2019-11-11</td>\n",
       "      <td>0</td>\n",
       "      <td>53</td>\n",
       "      <td>2</td>\n",
       "      <td>AUD</td>\n",
       "    </tr>\n",
       "    <tr>\n",
       "      <th>1</th>\n",
       "      <td>325</td>\n",
       "      <td>Female</td>\n",
       "      <td>Madison Hull</td>\n",
       "      <td>MOUNT BUDD</td>\n",
       "      <td>WA</td>\n",
       "      <td>Western Australia</td>\n",
       "      <td>6522</td>\n",
       "      <td>Australia</td>\n",
       "      <td>Australia</td>\n",
       "      <td>1979-09-27</td>\n",
       "      <td>1109001</td>\n",
       "      <td>1</td>\n",
       "      <td>2018-01-13</td>\n",
       "      <td>6</td>\n",
       "      <td>443</td>\n",
       "      <td>4</td>\n",
       "      <td>AUD</td>\n",
       "    </tr>\n",
       "  </tbody>\n",
       "</table>\n",
       "</div>"
      ],
      "text/plain": [
       "   CustomerKey  Gender           Name            City State Code  \\\n",
       "0          301  Female  Lilly Harding  WANDEARAH EAST         SA   \n",
       "1          325  Female   Madison Hull      MOUNT BUDD         WA   \n",
       "\n",
       "               State Zip Code    Country  Continent    Birthday  Order Number  \\\n",
       "0    South Australia     5523  Australia  Australia  1939-07-03       1776007   \n",
       "1  Western Australia     6522  Australia  Australia  1979-09-27       1109001   \n",
       "\n",
       "   Line Item  Order Date  StoreKey  ProductKey  Quantity Currency Code  \n",
       "0          1  2019-11-11         0          53         2           AUD  \n",
       "1          1  2018-01-13         6         443         4           AUD  "
      ]
     },
     "execution_count": 31,
     "metadata": {},
     "output_type": "execute_result"
    }
   ],
   "source": [
    "cus_sale=pd.merge(cus_df,sale_df, on='CustomerKey')\n",
    "cus_sale.head(2)"
   ]
  },
  {
   "cell_type": "code",
   "execution_count": 32,
   "metadata": {},
   "outputs": [
    {
     "data": {
      "text/plain": [
       "(62854, 17)"
      ]
     },
     "execution_count": 32,
     "metadata": {},
     "output_type": "execute_result"
    }
   ],
   "source": [
    "cus_sale.shape"
   ]
  },
  {
   "cell_type": "code",
   "execution_count": 33,
   "metadata": {},
   "outputs": [
    {
     "data": {
      "text/html": [
       "<div>\n",
       "<style scoped>\n",
       "    .dataframe tbody tr th:only-of-type {\n",
       "        vertical-align: middle;\n",
       "    }\n",
       "\n",
       "    .dataframe tbody tr th {\n",
       "        vertical-align: top;\n",
       "    }\n",
       "\n",
       "    .dataframe thead th {\n",
       "        text-align: right;\n",
       "    }\n",
       "</style>\n",
       "<table border=\"1\" class=\"dataframe\">\n",
       "  <thead>\n",
       "    <tr style=\"text-align: right;\">\n",
       "      <th></th>\n",
       "      <th>ProductKey</th>\n",
       "      <th>Product Name</th>\n",
       "      <th>Brand</th>\n",
       "      <th>Color</th>\n",
       "      <th>Unit Cost USD</th>\n",
       "      <th>Unit Price USD</th>\n",
       "      <th>SubcategoryKey</th>\n",
       "      <th>Subcategory</th>\n",
       "      <th>CategoryKey</th>\n",
       "      <th>Category</th>\n",
       "    </tr>\n",
       "  </thead>\n",
       "  <tbody>\n",
       "    <tr>\n",
       "      <th>0</th>\n",
       "      <td>1</td>\n",
       "      <td>Contoso 512MB MP3 Player E51 Silver</td>\n",
       "      <td>Contoso</td>\n",
       "      <td>Silver</td>\n",
       "      <td>6.62</td>\n",
       "      <td>12.99</td>\n",
       "      <td>101</td>\n",
       "      <td>MP4&amp;MP3</td>\n",
       "      <td>1</td>\n",
       "      <td>Audio</td>\n",
       "    </tr>\n",
       "    <tr>\n",
       "      <th>1</th>\n",
       "      <td>2</td>\n",
       "      <td>Contoso 512MB MP3 Player E51 Blue</td>\n",
       "      <td>Contoso</td>\n",
       "      <td>Blue</td>\n",
       "      <td>6.62</td>\n",
       "      <td>12.99</td>\n",
       "      <td>101</td>\n",
       "      <td>MP4&amp;MP3</td>\n",
       "      <td>1</td>\n",
       "      <td>Audio</td>\n",
       "    </tr>\n",
       "  </tbody>\n",
       "</table>\n",
       "</div>"
      ],
      "text/plain": [
       "   ProductKey                         Product Name    Brand   Color  \\\n",
       "0           1  Contoso 512MB MP3 Player E51 Silver  Contoso  Silver   \n",
       "1           2    Contoso 512MB MP3 Player E51 Blue  Contoso    Blue   \n",
       "\n",
       "   Unit Cost USD  Unit Price USD  SubcategoryKey Subcategory  CategoryKey  \\\n",
       "0           6.62           12.99             101     MP4&MP3            1   \n",
       "1           6.62           12.99             101     MP4&MP3            1   \n",
       "\n",
       "  Category  \n",
       "0    Audio  \n",
       "1    Audio  "
      ]
     },
     "execution_count": 33,
     "metadata": {},
     "output_type": "execute_result"
    }
   ],
   "source": [
    "pro_df = pd.read_csv(r\"C:\\Users\\razih\\OneDrive\\Desktop\\New\\electronics\\pro.csv\")\n",
    "pro_df.drop(['Unnamed: 0'],axis=1,inplace=True)\n",
    "pro_df.head(2)"
   ]
  },
  {
   "cell_type": "code",
   "execution_count": 34,
   "metadata": {},
   "outputs": [
    {
     "data": {
      "text/html": [
       "<div>\n",
       "<style scoped>\n",
       "    .dataframe tbody tr th:only-of-type {\n",
       "        vertical-align: middle;\n",
       "    }\n",
       "\n",
       "    .dataframe tbody tr th {\n",
       "        vertical-align: top;\n",
       "    }\n",
       "\n",
       "    .dataframe thead th {\n",
       "        text-align: right;\n",
       "    }\n",
       "</style>\n",
       "<table border=\"1\" class=\"dataframe\">\n",
       "  <thead>\n",
       "    <tr style=\"text-align: right;\">\n",
       "      <th></th>\n",
       "      <th>ProductKey</th>\n",
       "      <th>Product Name</th>\n",
       "      <th>Brand</th>\n",
       "      <th>Color</th>\n",
       "      <th>Unit Cost USD</th>\n",
       "      <th>Unit Price USD</th>\n",
       "      <th>SubcategoryKey</th>\n",
       "      <th>Subcategory</th>\n",
       "      <th>CategoryKey</th>\n",
       "      <th>Category</th>\n",
       "      <th>Order Number</th>\n",
       "      <th>Line Item</th>\n",
       "      <th>Order Date</th>\n",
       "      <th>CustomerKey</th>\n",
       "      <th>StoreKey</th>\n",
       "      <th>Quantity</th>\n",
       "      <th>Currency Code</th>\n",
       "    </tr>\n",
       "  </thead>\n",
       "  <tbody>\n",
       "    <tr>\n",
       "      <th>0</th>\n",
       "      <td>1</td>\n",
       "      <td>Contoso 512MB MP3 Player E51 Silver</td>\n",
       "      <td>Contoso</td>\n",
       "      <td>Silver</td>\n",
       "      <td>6.62</td>\n",
       "      <td>12.99</td>\n",
       "      <td>101</td>\n",
       "      <td>MP4&amp;MP3</td>\n",
       "      <td>1</td>\n",
       "      <td>Audio</td>\n",
       "      <td>493001</td>\n",
       "      <td>3</td>\n",
       "      <td>2016-05-07</td>\n",
       "      <td>453993</td>\n",
       "      <td>0</td>\n",
       "      <td>1</td>\n",
       "      <td>EUR</td>\n",
       "    </tr>\n",
       "    <tr>\n",
       "      <th>1</th>\n",
       "      <td>1</td>\n",
       "      <td>Contoso 512MB MP3 Player E51 Silver</td>\n",
       "      <td>Contoso</td>\n",
       "      <td>Silver</td>\n",
       "      <td>6.62</td>\n",
       "      <td>12.99</td>\n",
       "      <td>101</td>\n",
       "      <td>MP4&amp;MP3</td>\n",
       "      <td>1</td>\n",
       "      <td>Audio</td>\n",
       "      <td>728016</td>\n",
       "      <td>1</td>\n",
       "      <td>2016-12-28</td>\n",
       "      <td>1513119</td>\n",
       "      <td>47</td>\n",
       "      <td>1</td>\n",
       "      <td>USD</td>\n",
       "    </tr>\n",
       "  </tbody>\n",
       "</table>\n",
       "</div>"
      ],
      "text/plain": [
       "   ProductKey                         Product Name    Brand   Color  \\\n",
       "0           1  Contoso 512MB MP3 Player E51 Silver  Contoso  Silver   \n",
       "1           1  Contoso 512MB MP3 Player E51 Silver  Contoso  Silver   \n",
       "\n",
       "   Unit Cost USD  Unit Price USD  SubcategoryKey Subcategory  CategoryKey  \\\n",
       "0           6.62           12.99             101     MP4&MP3            1   \n",
       "1           6.62           12.99             101     MP4&MP3            1   \n",
       "\n",
       "  Category  Order Number  Line Item  Order Date  CustomerKey  StoreKey  \\\n",
       "0    Audio        493001          3  2016-05-07       453993         0   \n",
       "1    Audio        728016          1  2016-12-28      1513119        47   \n",
       "\n",
       "   Quantity Currency Code  \n",
       "0         1           EUR  \n",
       "1         1           USD  "
      ]
     },
     "execution_count": 34,
     "metadata": {},
     "output_type": "execute_result"
    }
   ],
   "source": [
    "pro_sale = pd.merge(pro_df,sale_df, on='ProductKey')\n",
    "pro_sale.head(2)"
   ]
  },
  {
   "cell_type": "code",
   "execution_count": 35,
   "metadata": {},
   "outputs": [
    {
     "data": {
      "text/plain": [
       "(62884, 17)"
      ]
     },
     "execution_count": 35,
     "metadata": {},
     "output_type": "execute_result"
    }
   ],
   "source": [
    "pro_sale.shape"
   ]
  },
  {
   "cell_type": "code",
   "execution_count": 36,
   "metadata": {},
   "outputs": [
    {
     "data": {
      "text/html": [
       "<div>\n",
       "<style scoped>\n",
       "    .dataframe tbody tr th:only-of-type {\n",
       "        vertical-align: middle;\n",
       "    }\n",
       "\n",
       "    .dataframe tbody tr th {\n",
       "        vertical-align: top;\n",
       "    }\n",
       "\n",
       "    .dataframe thead th {\n",
       "        text-align: right;\n",
       "    }\n",
       "</style>\n",
       "<table border=\"1\" class=\"dataframe\">\n",
       "  <thead>\n",
       "    <tr style=\"text-align: right;\">\n",
       "      <th></th>\n",
       "      <th>StoreKey</th>\n",
       "      <th>Country</th>\n",
       "      <th>State</th>\n",
       "      <th>Square Meters</th>\n",
       "      <th>Open Date</th>\n",
       "    </tr>\n",
       "  </thead>\n",
       "  <tbody>\n",
       "    <tr>\n",
       "      <th>0</th>\n",
       "      <td>1</td>\n",
       "      <td>Australia</td>\n",
       "      <td>Australian Capital Territory</td>\n",
       "      <td>595.0</td>\n",
       "      <td>2008-01-01</td>\n",
       "    </tr>\n",
       "    <tr>\n",
       "      <th>1</th>\n",
       "      <td>2</td>\n",
       "      <td>Australia</td>\n",
       "      <td>Northern Territory</td>\n",
       "      <td>665.0</td>\n",
       "      <td>2008-01-12</td>\n",
       "    </tr>\n",
       "  </tbody>\n",
       "</table>\n",
       "</div>"
      ],
      "text/plain": [
       "   StoreKey    Country                         State  Square Meters  \\\n",
       "0         1  Australia  Australian Capital Territory          595.0   \n",
       "1         2  Australia            Northern Territory          665.0   \n",
       "\n",
       "    Open Date  \n",
       "0  2008-01-01  \n",
       "1  2008-01-12  "
      ]
     },
     "execution_count": 36,
     "metadata": {},
     "output_type": "execute_result"
    }
   ],
   "source": [
    "store_df=pd.read_csv(r\"C:\\Users\\razih\\OneDrive\\Desktop\\New\\electronics\\store.csv\")\n",
    "store_df.drop(['Unnamed: 0'],axis=1,inplace=True)\n",
    "store_df.head(2)"
   ]
  },
  {
   "cell_type": "code",
   "execution_count": 37,
   "metadata": {},
   "outputs": [],
   "source": [
    "store_df.dropna(inplace=True)"
   ]
  },
  {
   "cell_type": "code",
   "execution_count": 38,
   "metadata": {},
   "outputs": [
    {
     "data": {
      "text/html": [
       "<div>\n",
       "<style scoped>\n",
       "    .dataframe tbody tr th:only-of-type {\n",
       "        vertical-align: middle;\n",
       "    }\n",
       "\n",
       "    .dataframe tbody tr th {\n",
       "        vertical-align: top;\n",
       "    }\n",
       "\n",
       "    .dataframe thead th {\n",
       "        text-align: right;\n",
       "    }\n",
       "</style>\n",
       "<table border=\"1\" class=\"dataframe\">\n",
       "  <thead>\n",
       "    <tr style=\"text-align: right;\">\n",
       "      <th></th>\n",
       "      <th>Order Number</th>\n",
       "      <th>Line Item</th>\n",
       "      <th>Order Date</th>\n",
       "      <th>CustomerKey</th>\n",
       "      <th>StoreKey</th>\n",
       "      <th>ProductKey</th>\n",
       "      <th>Quantity</th>\n",
       "      <th>Currency Code</th>\n",
       "      <th>Country</th>\n",
       "      <th>State</th>\n",
       "      <th>Square Meters</th>\n",
       "      <th>Open Date</th>\n",
       "    </tr>\n",
       "  </thead>\n",
       "  <tbody>\n",
       "    <tr>\n",
       "      <th>0</th>\n",
       "      <td>366000</td>\n",
       "      <td>1</td>\n",
       "      <td>2016-01-01</td>\n",
       "      <td>265598</td>\n",
       "      <td>10</td>\n",
       "      <td>1304</td>\n",
       "      <td>1</td>\n",
       "      <td>CAD</td>\n",
       "      <td>Canada</td>\n",
       "      <td>Nunavut</td>\n",
       "      <td>1210.0</td>\n",
       "      <td>2015-04-04</td>\n",
       "    </tr>\n",
       "    <tr>\n",
       "      <th>1</th>\n",
       "      <td>366004</td>\n",
       "      <td>1</td>\n",
       "      <td>2016-01-01</td>\n",
       "      <td>1107461</td>\n",
       "      <td>38</td>\n",
       "      <td>163</td>\n",
       "      <td>6</td>\n",
       "      <td>GBP</td>\n",
       "      <td>United Kingdom</td>\n",
       "      <td>Belfast</td>\n",
       "      <td>1800.0</td>\n",
       "      <td>2015-04-04</td>\n",
       "    </tr>\n",
       "  </tbody>\n",
       "</table>\n",
       "</div>"
      ],
      "text/plain": [
       "   Order Number  Line Item  Order Date  CustomerKey  StoreKey  ProductKey  \\\n",
       "0        366000          1  2016-01-01       265598        10        1304   \n",
       "1        366004          1  2016-01-01      1107461        38         163   \n",
       "\n",
       "   Quantity Currency Code         Country    State  Square Meters   Open Date  \n",
       "0         1           CAD          Canada  Nunavut         1210.0  2015-04-04  \n",
       "1         6           GBP  United Kingdom  Belfast         1800.0  2015-04-04  "
      ]
     },
     "execution_count": 38,
     "metadata": {},
     "output_type": "execute_result"
    }
   ],
   "source": [
    "store_sale = pd.merge(sale_df,store_df, on ='StoreKey')\n",
    "store_sale.head(2)"
   ]
  },
  {
   "cell_type": "code",
   "execution_count": 39,
   "metadata": {},
   "outputs": [],
   "source": [
    "store_sale.dropna(inplace=True)"
   ]
  },
  {
   "cell_type": "code",
   "execution_count": 40,
   "metadata": {},
   "outputs": [
    {
     "data": {
      "text/plain": [
       "(49719, 12)"
      ]
     },
     "execution_count": 40,
     "metadata": {},
     "output_type": "execute_result"
    }
   ],
   "source": [
    "store_sale.shape"
   ]
  },
  {
   "cell_type": "code",
   "execution_count": 41,
   "metadata": {},
   "outputs": [
    {
     "data": {
      "text/html": [
       "<div>\n",
       "<style scoped>\n",
       "    .dataframe tbody tr th:only-of-type {\n",
       "        vertical-align: middle;\n",
       "    }\n",
       "\n",
       "    .dataframe tbody tr th {\n",
       "        vertical-align: top;\n",
       "    }\n",
       "\n",
       "    .dataframe thead th {\n",
       "        text-align: right;\n",
       "    }\n",
       "</style>\n",
       "<table border=\"1\" class=\"dataframe\">\n",
       "  <thead>\n",
       "    <tr style=\"text-align: right;\">\n",
       "      <th></th>\n",
       "      <th>Record_Date</th>\n",
       "      <th>Currency</th>\n",
       "      <th>Exchange</th>\n",
       "    </tr>\n",
       "  </thead>\n",
       "  <tbody>\n",
       "    <tr>\n",
       "      <th>0</th>\n",
       "      <td>2015-01-01</td>\n",
       "      <td>USD</td>\n",
       "      <td>1.0000</td>\n",
       "    </tr>\n",
       "    <tr>\n",
       "      <th>1</th>\n",
       "      <td>2015-01-01</td>\n",
       "      <td>CAD</td>\n",
       "      <td>1.1583</td>\n",
       "    </tr>\n",
       "  </tbody>\n",
       "</table>\n",
       "</div>"
      ],
      "text/plain": [
       "  Record_Date Currency  Exchange\n",
       "0  2015-01-01      USD    1.0000\n",
       "1  2015-01-01      CAD    1.1583"
      ]
     },
     "execution_count": 41,
     "metadata": {},
     "output_type": "execute_result"
    }
   ],
   "source": [
    "ex_df=pd.read_csv(r\"C:\\Users\\razih\\OneDrive\\Desktop\\New\\electronics\\ex.csv\")\n",
    "ex_df.drop(['Unnamed: 0'],axis=1,inplace=True)\n",
    "ex_df.head(2)"
   ]
  },
  {
   "cell_type": "code",
   "execution_count": 42,
   "metadata": {},
   "outputs": [
    {
     "data": {
      "text/html": [
       "<div>\n",
       "<style scoped>\n",
       "    .dataframe tbody tr th:only-of-type {\n",
       "        vertical-align: middle;\n",
       "    }\n",
       "\n",
       "    .dataframe tbody tr th {\n",
       "        vertical-align: top;\n",
       "    }\n",
       "\n",
       "    .dataframe thead th {\n",
       "        text-align: right;\n",
       "    }\n",
       "</style>\n",
       "<table border=\"1\" class=\"dataframe\">\n",
       "  <thead>\n",
       "    <tr style=\"text-align: right;\">\n",
       "      <th></th>\n",
       "      <th>Order Number</th>\n",
       "      <th>Line Item</th>\n",
       "      <th>Order Date</th>\n",
       "      <th>CustomerKey</th>\n",
       "      <th>StoreKey</th>\n",
       "      <th>ProductKey</th>\n",
       "      <th>Quantity</th>\n",
       "      <th>Currency Code</th>\n",
       "      <th>Record_Date</th>\n",
       "      <th>Currency</th>\n",
       "      <th>Exchange</th>\n",
       "    </tr>\n",
       "  </thead>\n",
       "  <tbody>\n",
       "    <tr>\n",
       "      <th>0</th>\n",
       "      <td>366000</td>\n",
       "      <td>1</td>\n",
       "      <td>2016-01-01</td>\n",
       "      <td>265598</td>\n",
       "      <td>10</td>\n",
       "      <td>1304</td>\n",
       "      <td>1</td>\n",
       "      <td>CAD</td>\n",
       "      <td>2016-01-01</td>\n",
       "      <td>CAD</td>\n",
       "      <td>1.3884</td>\n",
       "    </tr>\n",
       "    <tr>\n",
       "      <th>1</th>\n",
       "      <td>366001</td>\n",
       "      <td>1</td>\n",
       "      <td>2016-01-01</td>\n",
       "      <td>1269051</td>\n",
       "      <td>0</td>\n",
       "      <td>1048</td>\n",
       "      <td>2</td>\n",
       "      <td>USD</td>\n",
       "      <td>2016-01-01</td>\n",
       "      <td>USD</td>\n",
       "      <td>1.0000</td>\n",
       "    </tr>\n",
       "  </tbody>\n",
       "</table>\n",
       "</div>"
      ],
      "text/plain": [
       "   Order Number  Line Item  Order Date  CustomerKey  StoreKey  ProductKey  \\\n",
       "0        366000          1  2016-01-01       265598        10        1304   \n",
       "1        366001          1  2016-01-01      1269051         0        1048   \n",
       "\n",
       "   Quantity Currency Code Record_Date Currency  Exchange  \n",
       "0         1           CAD  2016-01-01      CAD    1.3884  \n",
       "1         2           USD  2016-01-01      USD    1.0000  "
      ]
     },
     "execution_count": 42,
     "metadata": {},
     "output_type": "execute_result"
    }
   ],
   "source": [
    "ex_sale=pd.merge(sale_df,ex_df, left_on=['Order Date','Currency Code'], right_on=['Record_Date','Currency'])\n",
    "ex_sale.head(2)"
   ]
  },
  {
   "cell_type": "code",
   "execution_count": 43,
   "metadata": {},
   "outputs": [
    {
     "data": {
      "text/plain": [
       "(62884, 11)"
      ]
     },
     "execution_count": 43,
     "metadata": {},
     "output_type": "execute_result"
    }
   ],
   "source": [
    "ex_sale.shape"
   ]
  },
  {
   "cell_type": "code",
   "execution_count": 44,
   "metadata": {},
   "outputs": [
    {
     "data": {
      "text/html": [
       "<div>\n",
       "<style scoped>\n",
       "    .dataframe tbody tr th:only-of-type {\n",
       "        vertical-align: middle;\n",
       "    }\n",
       "\n",
       "    .dataframe tbody tr th {\n",
       "        vertical-align: top;\n",
       "    }\n",
       "\n",
       "    .dataframe thead th {\n",
       "        text-align: right;\n",
       "    }\n",
       "</style>\n",
       "<table border=\"1\" class=\"dataframe\">\n",
       "  <thead>\n",
       "    <tr style=\"text-align: right;\">\n",
       "      <th></th>\n",
       "      <th>CustomerKey</th>\n",
       "      <th>Gender</th>\n",
       "      <th>Name</th>\n",
       "      <th>City</th>\n",
       "      <th>State Code</th>\n",
       "      <th>State</th>\n",
       "      <th>Zip Code</th>\n",
       "      <th>Country</th>\n",
       "      <th>Continent</th>\n",
       "      <th>Birthday</th>\n",
       "      <th>...</th>\n",
       "      <th>Currency Code</th>\n",
       "      <th>Product Name</th>\n",
       "      <th>Brand</th>\n",
       "      <th>Color</th>\n",
       "      <th>Unit Cost USD</th>\n",
       "      <th>Unit Price USD</th>\n",
       "      <th>SubcategoryKey</th>\n",
       "      <th>Subcategory</th>\n",
       "      <th>CategoryKey</th>\n",
       "      <th>Category</th>\n",
       "    </tr>\n",
       "  </thead>\n",
       "  <tbody>\n",
       "    <tr>\n",
       "      <th>0</th>\n",
       "      <td>301</td>\n",
       "      <td>Female</td>\n",
       "      <td>Lilly Harding</td>\n",
       "      <td>WANDEARAH EAST</td>\n",
       "      <td>SA</td>\n",
       "      <td>South Australia</td>\n",
       "      <td>5523</td>\n",
       "      <td>Australia</td>\n",
       "      <td>Australia</td>\n",
       "      <td>1939-07-03</td>\n",
       "      <td>...</td>\n",
       "      <td>AUD</td>\n",
       "      <td>WWI 4GB Video Recording Pen X200 Black</td>\n",
       "      <td>Wide World Importers</td>\n",
       "      <td>Black</td>\n",
       "      <td>98.07</td>\n",
       "      <td>296.0</td>\n",
       "      <td>104</td>\n",
       "      <td>Recording Pen</td>\n",
       "      <td>1</td>\n",
       "      <td>Audio</td>\n",
       "    </tr>\n",
       "    <tr>\n",
       "      <th>1</th>\n",
       "      <td>325</td>\n",
       "      <td>Female</td>\n",
       "      <td>Madison Hull</td>\n",
       "      <td>MOUNT BUDD</td>\n",
       "      <td>WA</td>\n",
       "      <td>Western Australia</td>\n",
       "      <td>6522</td>\n",
       "      <td>Australia</td>\n",
       "      <td>Australia</td>\n",
       "      <td>1979-09-27</td>\n",
       "      <td>...</td>\n",
       "      <td>AUD</td>\n",
       "      <td>WWI Desktop PC3.0 M0300 Silver</td>\n",
       "      <td>Wide World Importers</td>\n",
       "      <td>Silver</td>\n",
       "      <td>160.49</td>\n",
       "      <td>349.0</td>\n",
       "      <td>303</td>\n",
       "      <td>Desktops</td>\n",
       "      <td>3</td>\n",
       "      <td>Computers</td>\n",
       "    </tr>\n",
       "  </tbody>\n",
       "</table>\n",
       "<p>2 rows × 26 columns</p>\n",
       "</div>"
      ],
      "text/plain": [
       "   CustomerKey  Gender           Name            City State Code  \\\n",
       "0          301  Female  Lilly Harding  WANDEARAH EAST         SA   \n",
       "1          325  Female   Madison Hull      MOUNT BUDD         WA   \n",
       "\n",
       "               State Zip Code    Country  Continent    Birthday  ...  \\\n",
       "0    South Australia     5523  Australia  Australia  1939-07-03  ...   \n",
       "1  Western Australia     6522  Australia  Australia  1979-09-27  ...   \n",
       "\n",
       "   Currency Code                            Product Name  \\\n",
       "0            AUD  WWI 4GB Video Recording Pen X200 Black   \n",
       "1            AUD          WWI Desktop PC3.0 M0300 Silver   \n",
       "\n",
       "                  Brand   Color  Unit Cost USD  Unit Price USD SubcategoryKey  \\\n",
       "0  Wide World Importers   Black          98.07           296.0            104   \n",
       "1  Wide World Importers  Silver         160.49           349.0            303   \n",
       "\n",
       "     Subcategory CategoryKey   Category  \n",
       "0  Recording Pen           1      Audio  \n",
       "1       Desktops           3  Computers  \n",
       "\n",
       "[2 rows x 26 columns]"
      ]
     },
     "execution_count": 44,
     "metadata": {},
     "output_type": "execute_result"
    }
   ],
   "source": [
    "cus_sale_pro =pd.merge(cus_sale,pro_df, on='ProductKey')\n",
    "cus_sale_pro.head(2)"
   ]
  },
  {
   "cell_type": "code",
   "execution_count": 59,
   "metadata": {},
   "outputs": [
    {
     "data": {
      "text/plain": [
       "(62854, 26)"
      ]
     },
     "execution_count": 59,
     "metadata": {},
     "output_type": "execute_result"
    }
   ],
   "source": [
    "cus_sale_pro.shape"
   ]
  },
  {
   "cell_type": "code",
   "execution_count": 45,
   "metadata": {},
   "outputs": [
    {
     "data": {
      "text/html": [
       "<div>\n",
       "<style scoped>\n",
       "    .dataframe tbody tr th:only-of-type {\n",
       "        vertical-align: middle;\n",
       "    }\n",
       "\n",
       "    .dataframe tbody tr th {\n",
       "        vertical-align: top;\n",
       "    }\n",
       "\n",
       "    .dataframe thead th {\n",
       "        text-align: right;\n",
       "    }\n",
       "</style>\n",
       "<table border=\"1\" class=\"dataframe\">\n",
       "  <thead>\n",
       "    <tr style=\"text-align: right;\">\n",
       "      <th></th>\n",
       "      <th>CustomerKey</th>\n",
       "      <th>Gender</th>\n",
       "      <th>Name</th>\n",
       "      <th>City</th>\n",
       "      <th>State Code</th>\n",
       "      <th>State_x</th>\n",
       "      <th>Zip Code</th>\n",
       "      <th>Country_x</th>\n",
       "      <th>Continent</th>\n",
       "      <th>Birthday</th>\n",
       "      <th>...</th>\n",
       "      <th>Unit Cost USD</th>\n",
       "      <th>Unit Price USD</th>\n",
       "      <th>SubcategoryKey</th>\n",
       "      <th>Subcategory</th>\n",
       "      <th>CategoryKey</th>\n",
       "      <th>Category</th>\n",
       "      <th>Country_y</th>\n",
       "      <th>State_y</th>\n",
       "      <th>Square Meters</th>\n",
       "      <th>Open Date</th>\n",
       "    </tr>\n",
       "  </thead>\n",
       "  <tbody>\n",
       "    <tr>\n",
       "      <th>0</th>\n",
       "      <td>325</td>\n",
       "      <td>Female</td>\n",
       "      <td>Madison Hull</td>\n",
       "      <td>MOUNT BUDD</td>\n",
       "      <td>WA</td>\n",
       "      <td>Western Australia</td>\n",
       "      <td>6522</td>\n",
       "      <td>Australia</td>\n",
       "      <td>Australia</td>\n",
       "      <td>1979-09-27</td>\n",
       "      <td>...</td>\n",
       "      <td>160.49</td>\n",
       "      <td>349.0</td>\n",
       "      <td>303</td>\n",
       "      <td>Desktops</td>\n",
       "      <td>3</td>\n",
       "      <td>Computers</td>\n",
       "      <td>Australia</td>\n",
       "      <td>Western Australia</td>\n",
       "      <td>2000.0</td>\n",
       "      <td>2010-01-01</td>\n",
       "    </tr>\n",
       "    <tr>\n",
       "      <th>1</th>\n",
       "      <td>325</td>\n",
       "      <td>Female</td>\n",
       "      <td>Madison Hull</td>\n",
       "      <td>MOUNT BUDD</td>\n",
       "      <td>WA</td>\n",
       "      <td>Western Australia</td>\n",
       "      <td>6522</td>\n",
       "      <td>Australia</td>\n",
       "      <td>Australia</td>\n",
       "      <td>1979-09-27</td>\n",
       "      <td>...</td>\n",
       "      <td>72.66</td>\n",
       "      <td>158.0</td>\n",
       "      <td>306</td>\n",
       "      <td>Printers, Scanners &amp; Fax</td>\n",
       "      <td>3</td>\n",
       "      <td>Computers</td>\n",
       "      <td>Australia</td>\n",
       "      <td>Western Australia</td>\n",
       "      <td>2000.0</td>\n",
       "      <td>2010-01-01</td>\n",
       "    </tr>\n",
       "  </tbody>\n",
       "</table>\n",
       "<p>2 rows × 30 columns</p>\n",
       "</div>"
      ],
      "text/plain": [
       "   CustomerKey  Gender          Name        City State Code  \\\n",
       "0          325  Female  Madison Hull  MOUNT BUDD         WA   \n",
       "1          325  Female  Madison Hull  MOUNT BUDD         WA   \n",
       "\n",
       "             State_x Zip Code  Country_x  Continent    Birthday  ...  \\\n",
       "0  Western Australia     6522  Australia  Australia  1979-09-27  ...   \n",
       "1  Western Australia     6522  Australia  Australia  1979-09-27  ...   \n",
       "\n",
       "   Unit Cost USD  Unit Price USD SubcategoryKey               Subcategory  \\\n",
       "0         160.49           349.0            303                  Desktops   \n",
       "1          72.66           158.0            306  Printers, Scanners & Fax   \n",
       "\n",
       "   CategoryKey   Category  Country_y            State_y Square Meters  \\\n",
       "0            3  Computers  Australia  Western Australia        2000.0   \n",
       "1            3  Computers  Australia  Western Australia        2000.0   \n",
       "\n",
       "    Open Date  \n",
       "0  2010-01-01  \n",
       "1  2010-01-01  \n",
       "\n",
       "[2 rows x 30 columns]"
      ]
     },
     "execution_count": 45,
     "metadata": {},
     "output_type": "execute_result"
    }
   ],
   "source": [
    "cus_sale_pro_store=pd.merge(cus_sale_pro,store_df, on='StoreKey')\n",
    "cus_sale_pro_store.head(2)"
   ]
  },
  {
   "cell_type": "code",
   "execution_count": 60,
   "metadata": {},
   "outputs": [
    {
     "data": {
      "text/plain": [
       "(49691, 30)"
      ]
     },
     "execution_count": 60,
     "metadata": {},
     "output_type": "execute_result"
    }
   ],
   "source": [
    "cus_sale_pro_store.shape"
   ]
  },
  {
   "cell_type": "code",
   "execution_count": 55,
   "metadata": {},
   "outputs": [
    {
     "data": {
      "text/plain": [
       "Index(['CustomerKey', 'Gender', 'Name', 'City', 'State Code', 'State_x',\n",
       "       'Zip Code', 'Country_x', 'Continent', 'Birthday', 'Order Number',\n",
       "       'Line Item', 'Order Date', 'StoreKey', 'ProductKey', 'Quantity',\n",
       "       'Currency Code', 'Product Name', 'Brand', 'Color', 'Unit Cost USD',\n",
       "       'Unit Price USD', 'SubcategoryKey', 'Subcategory', 'CategoryKey',\n",
       "       'Category', 'Country_y', 'State_y', 'Square Meters', 'Open Date'],\n",
       "      dtype='object')"
      ]
     },
     "execution_count": 55,
     "metadata": {},
     "output_type": "execute_result"
    }
   ],
   "source": [
    "cus_sale_pro_store.columns"
   ]
  },
  {
   "cell_type": "code",
   "execution_count": 46,
   "metadata": {},
   "outputs": [
    {
     "data": {
      "text/html": [
       "<div>\n",
       "<style scoped>\n",
       "    .dataframe tbody tr th:only-of-type {\n",
       "        vertical-align: middle;\n",
       "    }\n",
       "\n",
       "    .dataframe tbody tr th {\n",
       "        vertical-align: top;\n",
       "    }\n",
       "\n",
       "    .dataframe thead th {\n",
       "        text-align: right;\n",
       "    }\n",
       "</style>\n",
       "<table border=\"1\" class=\"dataframe\">\n",
       "  <thead>\n",
       "    <tr style=\"text-align: right;\">\n",
       "      <th></th>\n",
       "      <th>CustomerKey</th>\n",
       "      <th>Gender</th>\n",
       "      <th>Name</th>\n",
       "      <th>City</th>\n",
       "      <th>State Code</th>\n",
       "      <th>State_x</th>\n",
       "      <th>Zip Code</th>\n",
       "      <th>Country_x</th>\n",
       "      <th>Continent</th>\n",
       "      <th>Birthday</th>\n",
       "      <th>...</th>\n",
       "      <th>Subcategory</th>\n",
       "      <th>CategoryKey</th>\n",
       "      <th>Category</th>\n",
       "      <th>Country_y</th>\n",
       "      <th>State_y</th>\n",
       "      <th>Square Meters</th>\n",
       "      <th>Open Date</th>\n",
       "      <th>Record_Date</th>\n",
       "      <th>Currency</th>\n",
       "      <th>Exchange</th>\n",
       "    </tr>\n",
       "  </thead>\n",
       "  <tbody>\n",
       "    <tr>\n",
       "      <th>0</th>\n",
       "      <td>325</td>\n",
       "      <td>Female</td>\n",
       "      <td>Madison Hull</td>\n",
       "      <td>MOUNT BUDD</td>\n",
       "      <td>WA</td>\n",
       "      <td>Western Australia</td>\n",
       "      <td>6522</td>\n",
       "      <td>Australia</td>\n",
       "      <td>Australia</td>\n",
       "      <td>1979-09-27</td>\n",
       "      <td>...</td>\n",
       "      <td>Desktops</td>\n",
       "      <td>3</td>\n",
       "      <td>Computers</td>\n",
       "      <td>Australia</td>\n",
       "      <td>Western Australia</td>\n",
       "      <td>2000.0</td>\n",
       "      <td>2010-01-01</td>\n",
       "      <td>2018-01-13</td>\n",
       "      <td>AUD</td>\n",
       "      <td>1.2702</td>\n",
       "    </tr>\n",
       "    <tr>\n",
       "      <th>1</th>\n",
       "      <td>325</td>\n",
       "      <td>Female</td>\n",
       "      <td>Madison Hull</td>\n",
       "      <td>MOUNT BUDD</td>\n",
       "      <td>WA</td>\n",
       "      <td>Western Australia</td>\n",
       "      <td>6522</td>\n",
       "      <td>Australia</td>\n",
       "      <td>Australia</td>\n",
       "      <td>1979-09-27</td>\n",
       "      <td>...</td>\n",
       "      <td>Printers, Scanners &amp; Fax</td>\n",
       "      <td>3</td>\n",
       "      <td>Computers</td>\n",
       "      <td>Australia</td>\n",
       "      <td>Western Australia</td>\n",
       "      <td>2000.0</td>\n",
       "      <td>2010-01-01</td>\n",
       "      <td>2018-01-13</td>\n",
       "      <td>AUD</td>\n",
       "      <td>1.2702</td>\n",
       "    </tr>\n",
       "  </tbody>\n",
       "</table>\n",
       "<p>2 rows × 33 columns</p>\n",
       "</div>"
      ],
      "text/plain": [
       "   CustomerKey  Gender          Name        City State Code  \\\n",
       "0          325  Female  Madison Hull  MOUNT BUDD         WA   \n",
       "1          325  Female  Madison Hull  MOUNT BUDD         WA   \n",
       "\n",
       "             State_x Zip Code  Country_x  Continent    Birthday  ...  \\\n",
       "0  Western Australia     6522  Australia  Australia  1979-09-27  ...   \n",
       "1  Western Australia     6522  Australia  Australia  1979-09-27  ...   \n",
       "\n",
       "                Subcategory  CategoryKey   Category  Country_y  \\\n",
       "0                  Desktops            3  Computers  Australia   \n",
       "1  Printers, Scanners & Fax            3  Computers  Australia   \n",
       "\n",
       "             State_y  Square Meters   Open Date Record_Date Currency Exchange  \n",
       "0  Western Australia         2000.0  2010-01-01  2018-01-13      AUD   1.2702  \n",
       "1  Western Australia         2000.0  2010-01-01  2018-01-13      AUD   1.2702  \n",
       "\n",
       "[2 rows x 33 columns]"
      ]
     },
     "execution_count": 46,
     "metadata": {},
     "output_type": "execute_result"
    }
   ],
   "source": [
    "cus_sale_pro_store_ex=pd.merge(cus_sale_pro_store,ex_df, left_on=['Order Date','Currency Code'], right_on=['Record_Date','Currency'])\n",
    "cus_sale_pro_store_ex.head(2)"
   ]
  },
  {
   "cell_type": "code",
   "execution_count": 47,
   "metadata": {},
   "outputs": [
    {
     "data": {
      "text/plain": [
       "(49691, 33)"
      ]
     },
     "execution_count": 47,
     "metadata": {},
     "output_type": "execute_result"
    }
   ],
   "source": [
    "cus_sale_pro_store_ex.shape"
   ]
  },
  {
   "cell_type": "code",
   "execution_count": 48,
   "metadata": {},
   "outputs": [],
   "source": [
    "cus_sale_pro_store_ex.to_csv(\"all_df.csv\")"
   ]
  },
  {
   "cell_type": "code",
   "execution_count": 54,
   "metadata": {},
   "outputs": [
    {
     "data": {
      "text/plain": [
       "<pymysql.cursors.Cursor at 0x2313d42b2f0>"
      ]
     },
     "execution_count": 54,
     "metadata": {},
     "output_type": "execute_result"
    }
   ],
   "source": [
    "import pymysql\n",
    "\n",
    "connection = pymysql.connect(\n",
    "    host='localhost',\n",
    "    user='root',\n",
    "    password='123456789',\n",
    "    database='DATASPARK'\n",
    ")\n",
    "cursor=connection.cursor()\n",
    "cursor"
   ]
  },
  {
   "cell_type": "code",
   "execution_count": null,
   "metadata": {},
   "outputs": [
    {
     "name": "stdout",
     "output_type": "stream",
     "text": [
      "Table Created successfully\n"
     ]
    }
   ],
   "source": [
    "# Creating Table Sales_Customer_Product_Store['CustomerKey', 'Gender', 'Name', 'City', 'State Code', 'State_x',\n",
    "       #'Zip Code', 'Country_x', 'Continent', 'Birthday', 'Order Number',\n",
    "       #'Line Item', 'Order Date', 'StoreKey', 'ProductKey', 'Quantity',\n",
    "       #'Currency Code', 'Product Name', 'Brand', 'Color', 'Unit Cost USD',\n",
    "       #'Unit Price USD', 'SubcategoryKey', 'Subcategory', 'CategoryKey',\n",
    "      # 'Category', 'Country_y', 'State_y', 'Square Meters', 'Open Date']\n",
    "query=\"\"\" CREATE TABLE Customer_Product_Sale(\n",
    "        ID INT AUTO_INCREMENT PRIMARY KEY,\n",
    "        CustomerKey INT, \n",
    "        Gender VARCHAR(25) NOT NULL ,\n",
    "        Customer_Name VARCHAR(50) NOT NULL,\n",
    "        City VARCHAR(50) NOT NULL,\n",
    "        State_Code VARCHAR(50) NOT NULL,\n",
    "        State_x VARCHAR(50) NOT NULL,\n",
    "        Zip_Code VARCHAR(10) NOT NULL,\n",
    "        Country_x VARCHAR(50) NOT NULL,\n",
    "        Continent VARCHAR(50) NOT NULL,\n",
    "        Birthday VARCHAR(50) NOT NULL,\n",
    "        Order_Number INT,\n",
    "        Line_Item INT,\n",
    "        Order_Date VARCHAR(50) NOT NULL,\n",
    "        StoreKey INT,\n",
    "        ProductKey INT,\n",
    "        Quantity INT,\n",
    "        Currency_Code VARCHAR(50) NOT NULL,\n",
    "        Product_Name VARCHAR(150) NOT NULL,\n",
    "        Brand VARCHAR(50) NOT NULL,\n",
    "        Color VARCHAR(50) NOT NULL,\n",
    "        Unit_Cost_USD FLOAT,\n",
    "        Unit_Price_USD FLOAT,\n",
    "        SubcategoryKey INT,\n",
    "        Subcategory VARCHAR(50) NOT NULL,\n",
    "        CategoryKey INT,\n",
    "        Category VARCHAR(50) NOT NULL,\n",
    "        Country_y VARCHAR(50) NOT NULL,\n",
    "        State_y VARCHAR(50) NOT NULL,\n",
    "        Square_Meters FLOAT,\n",
    "        Open_Date VARCHAR(50) NOT NULL)\"\"\"\n",
    "cursor.execute(query)\n",
    "\n",
    "print(\"Table Created successfully\")"
   ]
  },
  {
   "cell_type": "code",
   "execution_count": 57,
   "metadata": {},
   "outputs": [
    {
     "name": "stdout",
     "output_type": "stream",
     "text": [
      "Values inserted successfully\n"
     ]
    }
   ],
   "source": [
    "# Inserting data into Sales_Customer table['CustomerKey', 'Gender', 'Name', 'City', 'State Code', 'State_x',\n",
    "       #'Zip Code', 'Country_x', 'Continent', 'Birthday', 'Order Number',\n",
    "       #'Line Item', 'Order Date', 'StoreKey', 'ProductKey', 'Quantity',\n",
    "       #'Currency Code', 'Product Name', 'Brand', 'Color', 'Unit Cost USD',\n",
    "       #'Unit Price USD', 'SubcategoryKey', 'Subcategory', 'CategoryKey',\n",
    "      # 'Category', 'Country_y', 'State_y', 'Square Meters', 'Open Date']\n",
    "insert_query = '''INSERT INTO Sales_Customer_Product_Store(\n",
    "            CustomerKey,\n",
    "            Gender,\n",
    "            Customer_Name,\n",
    "            City,\n",
    "            State_Code,\n",
    "            State_x,\n",
    "            Zip_Code,\n",
    "            Country_x,\n",
    "            Continent,\n",
    "            Birthday, \n",
    "            Order_Number,\n",
    "            Line_Item,\n",
    "            Order_Date,\n",
    "            StoreKey,\n",
    "            ProductKey,\n",
    "            Quantity,\n",
    "            Currency_Code,\n",
    "            Product_Name,\n",
    "            Brand,\n",
    "            Color,\n",
    "            Unit_Cost_USD,\n",
    "            Unit_Price_USD,\n",
    "            SubcategoryKey,\n",
    "            Subcategory,\n",
    "            CategoryKey,\n",
    "            Category,\n",
    "            Country_y,\n",
    "            State_y,\n",
    "            Square_Meters,\n",
    "            Open_Date\n",
    "            )\n",
    "        VALUES(%s, %s, %s, %s, %s, %s,\n",
    "               %s, %s, %s, %s, %s, %s,\n",
    "               %s, %s, %s, %s, %s, %s,\n",
    "               %s, %s, %s, %s, %s, %s,\n",
    "               %s, %s, %s, %s, %s, %s)'''\n",
    "data = cus_sale_pro_store.values.tolist()\n",
    "\n",
    "cursor.executemany(insert_query, data)\n",
    "\n",
    "connection.commit()\n",
    "\n",
    "print(\"Values inserted successfully\")"
   ]
  },
  {
   "cell_type": "code",
   "execution_count": 58,
   "metadata": {},
   "outputs": [
    {
     "name": "stdout",
     "output_type": "stream",
     "text": [
      "(1, 325, 'Female', 'Madison Hull', 'MOUNT BUDD', 'WA', 'Western Australia', '6522', 'Australia', 'Australia', '1979-09-27', 1109001, 1, '2018-01-13', 6, 443, 4, 'AUD', 'WWI Desktop PC3.0 M0300 Silver', 'Wide World Importers', 'Silver', 160.49, 349.0, 303, 'Desktops', 3, 'Computers', 'Australia', 'Western Australia', 2000.0, '2010-01-01')\n"
     ]
    }
   ],
   "source": [
    "query=\"select * from Sales_Customer_Product_Store\" \n",
    "cursor.execute(query)\n",
    "for i in cursor:\n",
    "    print(i)\n",
    "    break"
   ]
  },
  {
   "cell_type": "code",
   "execution_count": 62,
   "metadata": {},
   "outputs": [
    {
     "name": "stdout",
     "output_type": "stream",
     "text": [
      "Table Created successfully\n"
     ]
    }
   ],
   "source": [
    "'''['CustomerKey', 'Gender', 'Name', 'City', 'State Code', 'State',\n",
    "       'Zip Code', 'Country', 'Continent', 'Birthday', 'Order Number',\n",
    "       'Line Item', 'Order Date', 'StoreKey', 'ProductKey', 'Quantity',\n",
    "       'Currency Code', 'Product Name', 'Brand', 'Color', 'Unit Cost USD',\n",
    "       'Unit Price USD', 'SubcategoryKey', 'Subcategory', 'CategoryKey',\n",
    "       'Category']'''\n",
    "query=\"\"\" CREATE TABLE Customer_Product_Sale(\n",
    "        ID INT AUTO_INCREMENT PRIMARY KEY,\n",
    "        CustomerKey INT, \n",
    "        Gender VARCHAR(25) NOT NULL ,\n",
    "        Customer_Name VARCHAR(50) NOT NULL,\n",
    "        City VARCHAR(50) NOT NULL,\n",
    "        State_Code VARCHAR(50) NOT NULL,\n",
    "        State VARCHAR(50) NOT NULL,\n",
    "        Zip_Code VARCHAR(10) NOT NULL,\n",
    "        Country VARCHAR(50) NOT NULL,\n",
    "        Continent VARCHAR(50) NOT NULL,\n",
    "        Birthday VARCHAR(50) NOT NULL,\n",
    "        Order_Number INT,\n",
    "        Line_Item INT,\n",
    "        Order_Date VARCHAR(50) NOT NULL,\n",
    "        StoreKey INT,\n",
    "        ProductKey INT,\n",
    "        Quantity INT,\n",
    "        Currency_Code VARCHAR(50) NOT NULL,\n",
    "        Product_Name VARCHAR(150) NOT NULL,\n",
    "        Brand VARCHAR(50) NOT NULL,\n",
    "        Color VARCHAR(50) NOT NULL,\n",
    "        Unit_Cost_USD FLOAT,\n",
    "        Unit_Price_USD FLOAT,\n",
    "        SubcategoryKey INT,\n",
    "        Subcategory VARCHAR(50) NOT NULL,\n",
    "        CategoryKey INT,\n",
    "        Category VARCHAR(50) NOT NULL )\"\"\"\n",
    "cursor.execute(query)\n",
    "\n",
    "print(\"Table Created successfully\")"
   ]
  },
  {
   "cell_type": "code",
   "execution_count": 73,
   "metadata": {},
   "outputs": [
    {
     "name": "stdout",
     "output_type": "stream",
     "text": [
      "Table Created successfully\n"
     ]
    }
   ],
   "source": [
    "# Creating Table Customers\n",
    "cursor.execute('''CREATE TABLE Customer(\n",
    "        ID INT AUTO_INCREMENT PRIMARY KEY,\n",
    "        CustomerKey INT,\n",
    "        Gender VARCHAR(25) NOT NULL ,\n",
    "        Customer_Name VARCHAR(50) NOT NULL,\n",
    "        City VARCHAR(50) NOT NULL,\n",
    "        State_Code VARCHAR(50) NOT NULL,\n",
    "        State VARCHAR(50) NOT NULL,\n",
    "        Zip_Code VARCHAR(10) NOT NULL,\n",
    "        Country VARCHAR(50) NOT NULL,\n",
    "        Continent VARCHAR(50) NOT NULL,\n",
    "        Birthday VARCHAR(50) NOT NULL\n",
    "    )''')\n",
    "print(\"Table Created successfully\")"
   ]
  },
  {
   "cell_type": "code",
   "execution_count": 74,
   "metadata": {},
   "outputs": [
    {
     "name": "stdout",
     "output_type": "stream",
     "text": [
      "Values inserted successfully\n"
     ]
    }
   ],
   "source": [
    "# Inserting data into Customer table\n",
    "insert_query = '''INSERT INTO Customer(\n",
    "                    CustomerKey,\n",
    "                    Gender,\n",
    "                    Customer_Name,\n",
    "                    City,\n",
    "                    State_Code,\n",
    "                    State,\n",
    "                    Zip_Code,\n",
    "                    Country,\n",
    "                    Continent,\n",
    "                    Birthday\n",
    "                    )\n",
    "                  VALUES(%s, %s, %s, %s, %s, %s, %s, %s, %s, %s)'''\n",
    "data = cus_df.values.tolist()\n",
    "\n",
    "cursor.executemany(insert_query, data)\n",
    "\n",
    "connection.commit()\n",
    "\n",
    "print(\"Values inserted successfully\")"
   ]
  },
  {
   "cell_type": "code",
   "execution_count": 75,
   "metadata": {},
   "outputs": [
    {
     "name": "stdout",
     "output_type": "stream",
     "text": [
      "Table Created successfully\n"
     ]
    }
   ],
   "source": [
    "# Creating Table Sales\n",
    "cursor.execute('''CREATE TABLE Sale(\n",
    "        ID INT AUTO_INCREMENT PRIMARY KEY,\n",
    "        Order_Number INT,\n",
    "        Line_Item INT,\n",
    "        Order_Date VARCHAR(50) NOT NULL,\n",
    "        CustomerKey INT,\n",
    "        StoreKey INT,\n",
    "        ProductKey INT,\n",
    "        Quantity INT,\n",
    "        Currency_Code VARCHAR(50) NOT NULL\n",
    "    )''')\n",
    "print(\"Table Created successfully\")"
   ]
  },
  {
   "cell_type": "code",
   "execution_count": 76,
   "metadata": {},
   "outputs": [
    {
     "name": "stdout",
     "output_type": "stream",
     "text": [
      "Values inserted successfully\n"
     ]
    }
   ],
   "source": [
    "# Inserting data into Sales table\n",
    "insert_query = '''INSERT INTO Sale(\n",
    "            Order_Number,\n",
    "            Line_Item,\n",
    "            Order_Date,\n",
    "            CustomerKey,\n",
    "            StoreKey,\n",
    "            ProductKey,\n",
    "            Quantity,\n",
    "            Currency_Code\n",
    "            )\n",
    "        VALUES(%s, %s, %s, %s, %s, %s, %s, %s)'''\n",
    "data = sale_df.values.tolist()\n",
    "\n",
    "cursor.executemany(insert_query, data)\n",
    "\n",
    "connection.commit()\n",
    "\n",
    "print(\"Values inserted successfully\")"
   ]
  },
  {
   "cell_type": "code",
   "execution_count": 77,
   "metadata": {},
   "outputs": [
    {
     "name": "stdout",
     "output_type": "stream",
     "text": [
      "Table Created successfully\n"
     ]
    }
   ],
   "source": [
    "# Creating Table Product\n",
    "cursor.execute('''CREATE TABLE Product(\n",
    "        ID INT AUTO_INCREMENT PRIMARY KEY,\n",
    "        ProductKey INT,\n",
    "        Product_Name VARCHAR(150) NOT NULL,\n",
    "        Brand VARCHAR(50) NOT NULL,\n",
    "        Color VARCHAR(50) NOT NULL,\n",
    "        Unit_Cost_USD FLOAT,\n",
    "        Unit_Price_USD FLOAT,\n",
    "        SubcategoryKey INT,\n",
    "        Subcategory VARCHAR(50) NOT NULL,\n",
    "        CategoryKey INT,\n",
    "        Category VARCHAR(50) NOT NULL\n",
    "    )''')\n",
    "print(\"Table Created successfully\")"
   ]
  },
  {
   "cell_type": "code",
   "execution_count": 78,
   "metadata": {},
   "outputs": [
    {
     "name": "stdout",
     "output_type": "stream",
     "text": [
      "Values inserted successfully\n"
     ]
    }
   ],
   "source": [
    "# Inserting data into Product table\n",
    "insert_query = '''INSERT INTO Product(\n",
    "            ProductKey,\n",
    "            Product_Name,\n",
    "            Brand,\n",
    "            Color,\n",
    "            Unit_Cost_USD,\n",
    "            Unit_Price_USD,\n",
    "            SubcategoryKey,\n",
    "            Subcategory,\n",
    "            CategoryKey,\n",
    "            Category\n",
    "            )\n",
    "        VALUES(%s, %s, %s, %s, %s, %s, %s, %s, %s, %s)'''\n",
    "data = pro_df.values.tolist()\n",
    "\n",
    "cursor.executemany(insert_query, data)\n",
    "\n",
    "connection.commit()\n",
    "\n",
    "print(\"Values inserted successfully\")"
   ]
  },
  {
   "cell_type": "code",
   "execution_count": 79,
   "metadata": {},
   "outputs": [
    {
     "name": "stdout",
     "output_type": "stream",
     "text": [
      "Table Created successfully\n"
     ]
    }
   ],
   "source": [
    "# Creating Table Stores\n",
    "cursor.execute('''CREATE TABLE Store(\n",
    "        ID INT AUTO_INCREMENT PRIMARY KEY,\n",
    "        StoreKey INT,\n",
    "        Country VARCHAR(50) NOT NULL,\n",
    "        State VARCHAR(50) NOT NULL,\n",
    "        Square_Meters FLOAT,\n",
    "        Open_Date VARCHAR(50) NOT NULL\n",
    "    )''')\n",
    "print(\"Table Created successfully\")"
   ]
  },
  {
   "cell_type": "code",
   "execution_count": 80,
   "metadata": {},
   "outputs": [
    {
     "name": "stdout",
     "output_type": "stream",
     "text": [
      "Values inserted successfully\n"
     ]
    }
   ],
   "source": [
    "# Inserting data into Store table\n",
    "insert_query = '''INSERT INTO Store(\n",
    "            StoreKey ,\n",
    "            Country,\n",
    "            State,\n",
    "            Square_Meters,\n",
    "            Open_Date\n",
    "            )\n",
    "        VALUES(%s, %s, %s, %s, %s)'''\n",
    "data = store_df.values.tolist()\n",
    "\n",
    "cursor.executemany(insert_query, data)\n",
    "\n",
    "connection.commit()\n",
    "\n",
    "print(\"Values inserted successfully\")"
   ]
  },
  {
   "cell_type": "code",
   "execution_count": 81,
   "metadata": {},
   "outputs": [
    {
     "name": "stdout",
     "output_type": "stream",
     "text": [
      "Table Created successfully\n"
     ]
    }
   ],
   "source": [
    "# Creating Table Exchange_Rate\n",
    "cursor.execute('''CREATE TABLE Exchange_Rate(\n",
    "        ID INT AUTO_INCREMENT PRIMARY KEY,\n",
    "        Record_Date VARCHAR(50) NOT NULL,\n",
    "        Currency VARCHAR(50) NOT NULL,\n",
    "        Exchange_Rate FLOAT\n",
    "    )''')\n",
    "print(\"Table Created successfully\")"
   ]
  },
  {
   "cell_type": "code",
   "execution_count": 82,
   "metadata": {},
   "outputs": [
    {
     "name": "stdout",
     "output_type": "stream",
     "text": [
      "Values inserted successfully\n"
     ]
    }
   ],
   "source": [
    "# Inserting data into Exchange_Rate table\n",
    "insert_query = '''INSERT INTO Exchange_Rate(\n",
    "            Record_Date,\n",
    "            Currency,\n",
    "            Exchange_Rate\n",
    "            )\n",
    "        VALUES(%s, %s, %s)'''\n",
    "data = ex_df.values.tolist()\n",
    "\n",
    "cursor.executemany(insert_query, data)\n",
    "\n",
    "connection.commit()\n",
    "\n",
    "print(\"Values inserted successfully\")"
   ]
  },
  {
   "cell_type": "code",
   "execution_count": 85,
   "metadata": {},
   "outputs": [
    {
     "name": "stdout",
     "output_type": "stream",
     "text": [
      "('customer',)\n",
      "('exchange_rate',)\n",
      "('product',)\n",
      "('sale',)\n",
      "('sales_customer_product_store',)\n",
      "('store',)\n"
     ]
    }
   ],
   "source": [
    "query=\"show tables\"\n",
    "cursor.execute(query)\n",
    "for i in cursor:\n",
    "    print(i)"
   ]
  },
  {
   "cell_type": "code",
   "execution_count": 84,
   "metadata": {},
   "outputs": [
    {
     "data": {
      "text/plain": [
       "0"
      ]
     },
     "execution_count": 84,
     "metadata": {},
     "output_type": "execute_result"
    }
   ],
   "source": [
    "query=\"drop table Customer_Product_Sale\"\n",
    "cursor.execute(query)"
   ]
  },
  {
   "cell_type": "code",
   "execution_count": null,
   "metadata": {},
   "outputs": [],
   "source": []
  }
 ],
 "metadata": {
  "kernelspec": {
   "display_name": ".venv",
   "language": "python",
   "name": "python3"
  },
  "language_info": {
   "codemirror_mode": {
    "name": "ipython",
    "version": 3
   },
   "file_extension": ".py",
   "mimetype": "text/x-python",
   "name": "python",
   "nbconvert_exporter": "python",
   "pygments_lexer": "ipython3",
   "version": "3.12.7"
  }
 },
 "nbformat": 4,
 "nbformat_minor": 2
}
